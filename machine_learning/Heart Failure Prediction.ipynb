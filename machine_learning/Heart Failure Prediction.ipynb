{
 "cells": [
  {
   "cell_type": "markdown",
   "id": "b6b330f8",
   "metadata": {},
   "source": [
    "# Building a Model for Predicting Heart Failure\n",
    "\n",
    "This is an exercise that I do to practice building predictive machine learning (ML) models. I picked this dataset specifically because I wanted to study classification algorithms. Classification algorithms are used in many different fields, such as drug discovery and assessing toxicity of molecules. It would be better to use public EPA data, but I wanted to start practicing with a dataset that I can understand. With that, my goal is to find a dataset that is similar to EPA dataset in terms of data types."
   ]
  },
  {
   "cell_type": "markdown",
   "id": "5c7da194",
   "metadata": {},
   "source": [
    "## Part 1: Finding a dataset on kaggle.com\n",
    "\n",
    "I used kaggle.com API to find a publicly available dataset. I believe the 'heart failure' dataset is a suitable one since the data is similar to EPA datasets that I have looked at. You have to download \"kaggle\" package first. If you are using conda, use one of the commands below:\n",
    "\n",
    "- conda install -c conda-forge kaggle \n",
    "- conda install -c conda-forge/label/cf202003 kaggle\n",
    "\n",
    "If you are using \"pip\" to install packages, try:\n",
    "\n",
    "- pip install kaggle\n",
    "\n",
    "Once, you install \"kaggle\" package, you can run searches on Kaggle inside Python."
   ]
  },
  {
   "cell_type": "code",
   "execution_count": 90,
   "id": "3c1146ed",
   "metadata": {},
   "outputs": [
    {
     "name": "stdout",
     "output_type": "stream",
     "text": [
      "Warning: Your Kaggle API key is readable by other users on this system! To fix this, you can run 'chmod 600 /Users/NoDistractions/.kaggle/kaggle.json'\n"
     ]
    }
   ],
   "source": [
    "# Import \"kaggle\" library to search for datasets and kernels on kaggle.com\n",
    "\n",
    "import kaggle"
   ]
  },
  {
   "cell_type": "code",
   "execution_count": 2,
   "id": "961ff7e5",
   "metadata": {},
   "outputs": [
    {
     "name": "stdout",
     "output_type": "stream",
     "text": [
      "Warning: Your Kaggle API key is readable by other users on this system! To fix this, you can run 'chmod 600 /Users/NoDistractions/.kaggle/kaggle.json'\n",
      "ref                                                           title                                            size  lastUpdated          downloadCount  voteCount  usabilityRating  \n",
      "------------------------------------------------------------  ----------------------------------------------  -----  -------------------  -------------  ---------  ---------------  \n",
      "andrewmvd/heart-failure-clinical-data                         Heart Failure Prediction                          4KB  2020-06-20 01:03:20          73308       1551  1.0              \n",
      "ronitf/heart-disease-uci                                      Heart Disease UCI                                 3KB  2018-06-25 11:33:56         272423       5574  0.7647059        \n",
      "fedesoriano/heart-failure-prediction                          Heart Failure Prediction Dataset                  9KB  2021-09-10 18:11:57          46043       1526  1.0              \n",
      "rashikrahmanpritom/heart-attack-analysis-prediction-dataset   Heart Attack Analysis & Prediction Dataset        4KB  2021-03-22 11:40:59          62127       2204  1.0              \n",
      "johnsmith88/heart-disease-dataset                             Heart Disease Dataset                             6KB  2019-06-06 15:33:55          21022        288  0.88235295       \n",
      "imnikhilanand/heart-attack-prediction                         Heart Attack Prediction                           3KB  2018-04-25 18:24:01          14326        238  0.7058824        \n",
      "kinguistics/heartbeat-sounds                                  Heartbeat Sounds                                110MB  2016-11-27 01:33:54          14076        514  0.7647059        \n",
      "pritsheta/heart-attack                                        Heart Attack                                      3KB  2021-09-26 06:47:56           1604         38  1.0              \n",
      "nareshbhat/health-care-data-set-on-heart-attack-possibility   Health care: Heart attack possibility             3KB  2020-06-25 07:11:26          16824        274  0.7058824        \n",
      "volodymyrgavrysh/heart-disease                                Heart_Disease                                     3KB  2020-01-17 19:09:22           2758         61  1.0              \n",
      "cherngs/heart-disease-cleveland-uci                           Heart Disease Cleveland UCI                       3KB  2020-03-29 12:06:31           2809         50  0.88235295       \n",
      "jeradrose/hearthstone-cards                                   Hearthstone Cards                               745KB  2017-01-04 17:40:32           2438        106  0.8235294        \n",
      "rishidamarla/heart-disease-prediction                         Heart Disease Prediction                          3KB  2020-08-23 01:18:14           2795         46  0.9411765        \n",
      "shayanfazeli/heartbeat                                        ECG Heartbeat Categorization Dataset             99MB  2018-05-31 18:47:34          33406        580  0.5882353        \n",
      "fedesoriano/stroke-prediction-dataset                         Stroke Prediction Dataset                        67KB  2021-01-26 19:29:28          58512       1830  1.0              \n",
      "dileep070/heart-disease-prediction-using-logistic-regression    Logistic regression To predict heart disease   58KB  2019-06-07 06:12:56          17620        238  0.7058824        \n",
      "alexteboul/heart-disease-health-indicators-dataset            Heart Disease Health Indicators Dataset           3MB  2021-11-02 16:54:40           1870         49  1.0              \n",
      "mazharkarimi/heart-disease-and-stroke-prevention              Heart Disease and Stroke Prevention               1MB  2018-05-14 10:36:48           8677        181  0.7058824        \n",
      "redwankarimsony/heart-disease-data                            UCI Heart Disease Data                           12KB  2020-09-23 03:34:11           2119         32  0.9411765        \n",
      "danimal/heartdiseaseensembleclassifier                        Heart Disease Ensemble Classifier                 9KB  2017-12-01 17:40:36           3254         38  0.7647059        \n"
     ]
    }
   ],
   "source": [
    "# Search datasets with keyword 'heart'. Make sure you start with '!'\n",
    "\n",
    "!kaggle datasets list -s 'heart'"
   ]
  },
  {
   "cell_type": "code",
   "execution_count": 3,
   "id": "61226bde",
   "metadata": {},
   "outputs": [
    {
     "name": "stdout",
     "output_type": "stream",
     "text": [
      "Warning: Your Kaggle API key is readable by other users on this system! To fix this, you can run 'chmod 600 /Users/NoDistractions/.kaggle/kaggle.json'\n",
      "heart-failure-prediction.zip: Skipping, found more recently modified local copy (use --force to force download)\n"
     ]
    }
   ],
   "source": [
    "# To download the 'heart-failure-prediction' dataset, we provide the path and download it as .zip file.\n",
    "# Once downloaded, unzip the .csv file into the folder. If you already have a local copy of the dataset, \n",
    "# Python will skip the download.\n",
    "\n",
    "!kaggle datasets download -d 'fedesoriano/heart-failure-prediction'"
   ]
  },
  {
   "cell_type": "code",
   "execution_count": 4,
   "id": "211419a3",
   "metadata": {},
   "outputs": [
    {
     "name": "stdout",
     "output_type": "stream",
     "text": [
      "Warning: Your Kaggle API key is readable by other users on this system! To fix this, you can run 'chmod 600 /Users/NoDistractions/.kaggle/kaggle.json'\n",
      "ref                                                           title                                            size  lastUpdated          downloadCount  voteCount  usabilityRating  \n",
      "------------------------------------------------------------  ----------------------------------------------  -----  -------------------  -------------  ---------  ---------------  \n",
      "andrewmvd/heart-failure-clinical-data                         Heart Failure Prediction                          4KB  2020-06-20 01:03:20          73308       1551  1.0              \n",
      "ronitf/heart-disease-uci                                      Heart Disease UCI                                 3KB  2018-06-25 11:33:56         272423       5574  0.7647059        \n",
      "fedesoriano/heart-failure-prediction                          Heart Failure Prediction Dataset                  9KB  2021-09-10 18:11:57          46044       1526  1.0              \n",
      "rashikrahmanpritom/heart-attack-analysis-prediction-dataset   Heart Attack Analysis & Prediction Dataset        4KB  2021-03-22 11:40:59          62127       2204  1.0              \n",
      "johnsmith88/heart-disease-dataset                             Heart Disease Dataset                             6KB  2019-06-06 15:33:55          21022        288  0.88235295       \n",
      "imnikhilanand/heart-attack-prediction                         Heart Attack Prediction                           3KB  2018-04-25 18:24:01          14326        238  0.7058824        \n",
      "kinguistics/heartbeat-sounds                                  Heartbeat Sounds                                110MB  2016-11-27 01:33:54          14076        514  0.7647059        \n",
      "pritsheta/heart-attack                                        Heart Attack                                      3KB  2021-09-26 06:47:56           1604         38  1.0              \n",
      "nareshbhat/health-care-data-set-on-heart-attack-possibility   Health care: Heart attack possibility             3KB  2020-06-25 07:11:26          16824        274  0.7058824        \n",
      "volodymyrgavrysh/heart-disease                                Heart_Disease                                     3KB  2020-01-17 19:09:22           2758         61  1.0              \n",
      "cherngs/heart-disease-cleveland-uci                           Heart Disease Cleveland UCI                       3KB  2020-03-29 12:06:31           2809         50  0.88235295       \n",
      "jeradrose/hearthstone-cards                                   Hearthstone Cards                               745KB  2017-01-04 17:40:32           2438        106  0.8235294        \n",
      "rishidamarla/heart-disease-prediction                         Heart Disease Prediction                          3KB  2020-08-23 01:18:14           2795         46  0.9411765        \n",
      "shayanfazeli/heartbeat                                        ECG Heartbeat Categorization Dataset             99MB  2018-05-31 18:47:34          33406        580  0.5882353        \n",
      "fedesoriano/stroke-prediction-dataset                         Stroke Prediction Dataset                        67KB  2021-01-26 19:29:28          58512       1830  1.0              \n",
      "dileep070/heart-disease-prediction-using-logistic-regression    Logistic regression To predict heart disease   58KB  2019-06-07 06:12:56          17620        238  0.7058824        \n",
      "alexteboul/heart-disease-health-indicators-dataset            Heart Disease Health Indicators Dataset           3MB  2021-11-02 16:54:40           1870         49  1.0              \n",
      "mazharkarimi/heart-disease-and-stroke-prevention              Heart Disease and Stroke Prevention               1MB  2018-05-14 10:36:48           8677        181  0.7058824        \n",
      "redwankarimsony/heart-disease-data                            UCI Heart Disease Data                           12KB  2020-09-23 03:34:11           2119         32  0.9411765        \n",
      "danimal/heartdiseaseensembleclassifier                        Heart Disease Ensemble Classifier                 9KB  2017-12-01 17:40:36           3254         38  0.7647059        \n"
     ]
    }
   ],
   "source": [
    "# LIBRARIES\n",
    "\n",
    "import kaggle\n",
    "\n",
    "!kaggle datasets list -s 'heart'"
   ]
  },
  {
   "cell_type": "markdown",
   "id": "6064f4de",
   "metadata": {},
   "source": [
    "## Part 2: Project Planning\n",
    "\n",
    "Below are the steps that I plan to take to build a ML model to predict heart failure:\n",
    "\n",
    "1. Data Exploration\n",
    "    - data types,\n",
    "    - null values,\n",
    "    - descriptive statistics of numeric values,\n",
    "    - correlation between different numeric attributes\n",
    "    - explore interesting questions\n",
    "        * Is one sex more prone to heart failure than the other?\n",
    "        * Do people at a certain age range are more likely to have heart failure?\n",
    "        * Is one chest pain more indicative of a heart failure than others?\n",
    "        * ...\n",
    "\n",
    "2. Feature Engineering\n",
    "    - Make some new variables if necessary\n",
    "    \n",
    "3. Preprocess the data\n",
    "\n",
    "4. Model building\n",
    "    - Scale the data if necessary\n",
    "    - Assumptions\n",
    "\n",
    "5. Model Baseline\n",
    "\n",
    "6. Model Comparison\n",
    "   \n",
    "    \n"
   ]
  },
  {
   "cell_type": "markdown",
   "id": "d251d1f6",
   "metadata": {},
   "source": [
    "## Part 3: Import the dataset and explore the data\n",
    "\n",
    "The dataset has some attributes that I don't know what they mean. So, I went to kaggle.com, searched the dataset, and read the description of the dataset.\n",
    "\n",
    "- https://www.kaggle.com/fedesoriano/heart-failure-prediction\n"
   ]
  },
  {
   "cell_type": "code",
   "execution_count": 1,
   "id": "dc4d5dd8",
   "metadata": {},
   "outputs": [],
   "source": [
    "import pandas as pd\n",
    "\n",
    "df = pd.read_csv('heart.csv')\n",
    "\n",
    "df_copy = df #taking a copy of the dataset just in case."
   ]
  },
  {
   "cell_type": "code",
   "execution_count": 2,
   "id": "b3299276",
   "metadata": {},
   "outputs": [
    {
     "data": {
      "text/html": [
       "<div>\n",
       "<style scoped>\n",
       "    .dataframe tbody tr th:only-of-type {\n",
       "        vertical-align: middle;\n",
       "    }\n",
       "\n",
       "    .dataframe tbody tr th {\n",
       "        vertical-align: top;\n",
       "    }\n",
       "\n",
       "    .dataframe thead th {\n",
       "        text-align: right;\n",
       "    }\n",
       "</style>\n",
       "<table border=\"1\" class=\"dataframe\">\n",
       "  <thead>\n",
       "    <tr style=\"text-align: right;\">\n",
       "      <th></th>\n",
       "      <th>Age</th>\n",
       "      <th>Sex</th>\n",
       "      <th>ChestPainType</th>\n",
       "      <th>RestingBP</th>\n",
       "      <th>Cholesterol</th>\n",
       "      <th>FastingBS</th>\n",
       "      <th>RestingECG</th>\n",
       "      <th>MaxHR</th>\n",
       "      <th>ExerciseAngina</th>\n",
       "      <th>Oldpeak</th>\n",
       "      <th>ST_Slope</th>\n",
       "      <th>HeartDisease</th>\n",
       "    </tr>\n",
       "  </thead>\n",
       "  <tbody>\n",
       "    <tr>\n",
       "      <th>0</th>\n",
       "      <td>40</td>\n",
       "      <td>M</td>\n",
       "      <td>ATA</td>\n",
       "      <td>140</td>\n",
       "      <td>289</td>\n",
       "      <td>0</td>\n",
       "      <td>Normal</td>\n",
       "      <td>172</td>\n",
       "      <td>N</td>\n",
       "      <td>0.0</td>\n",
       "      <td>Up</td>\n",
       "      <td>0</td>\n",
       "    </tr>\n",
       "    <tr>\n",
       "      <th>1</th>\n",
       "      <td>49</td>\n",
       "      <td>F</td>\n",
       "      <td>NAP</td>\n",
       "      <td>160</td>\n",
       "      <td>180</td>\n",
       "      <td>0</td>\n",
       "      <td>Normal</td>\n",
       "      <td>156</td>\n",
       "      <td>N</td>\n",
       "      <td>1.0</td>\n",
       "      <td>Flat</td>\n",
       "      <td>1</td>\n",
       "    </tr>\n",
       "    <tr>\n",
       "      <th>2</th>\n",
       "      <td>37</td>\n",
       "      <td>M</td>\n",
       "      <td>ATA</td>\n",
       "      <td>130</td>\n",
       "      <td>283</td>\n",
       "      <td>0</td>\n",
       "      <td>ST</td>\n",
       "      <td>98</td>\n",
       "      <td>N</td>\n",
       "      <td>0.0</td>\n",
       "      <td>Up</td>\n",
       "      <td>0</td>\n",
       "    </tr>\n",
       "    <tr>\n",
       "      <th>3</th>\n",
       "      <td>48</td>\n",
       "      <td>F</td>\n",
       "      <td>ASY</td>\n",
       "      <td>138</td>\n",
       "      <td>214</td>\n",
       "      <td>0</td>\n",
       "      <td>Normal</td>\n",
       "      <td>108</td>\n",
       "      <td>Y</td>\n",
       "      <td>1.5</td>\n",
       "      <td>Flat</td>\n",
       "      <td>1</td>\n",
       "    </tr>\n",
       "    <tr>\n",
       "      <th>4</th>\n",
       "      <td>54</td>\n",
       "      <td>M</td>\n",
       "      <td>NAP</td>\n",
       "      <td>150</td>\n",
       "      <td>195</td>\n",
       "      <td>0</td>\n",
       "      <td>Normal</td>\n",
       "      <td>122</td>\n",
       "      <td>N</td>\n",
       "      <td>0.0</td>\n",
       "      <td>Up</td>\n",
       "      <td>0</td>\n",
       "    </tr>\n",
       "  </tbody>\n",
       "</table>\n",
       "</div>"
      ],
      "text/plain": [
       "   Age Sex ChestPainType  RestingBP  Cholesterol  FastingBS RestingECG  MaxHR  \\\n",
       "0   40   M           ATA        140          289          0     Normal    172   \n",
       "1   49   F           NAP        160          180          0     Normal    156   \n",
       "2   37   M           ATA        130          283          0         ST     98   \n",
       "3   48   F           ASY        138          214          0     Normal    108   \n",
       "4   54   M           NAP        150          195          0     Normal    122   \n",
       "\n",
       "  ExerciseAngina  Oldpeak ST_Slope  HeartDisease  \n",
       "0              N      0.0       Up             0  \n",
       "1              N      1.0     Flat             1  \n",
       "2              N      0.0       Up             0  \n",
       "3              Y      1.5     Flat             1  \n",
       "4              N      0.0       Up             0  "
      ]
     },
     "execution_count": 2,
     "metadata": {},
     "output_type": "execute_result"
    }
   ],
   "source": [
    "# To see the attributes in the dataset, uncomment df.columns and comment df.head().\n",
    "# To take a peak at the dataset, comment df.columns and uncomment df.head()\n",
    "\n",
    "# df.columns\n",
    "df.head()"
   ]
  },
  {
   "cell_type": "markdown",
   "id": "3e53e3b8",
   "metadata": {},
   "source": [
    "Let's look at data types and missing values. Looks like there are 5 categorical variables. In addition, there are no missing values. I guess we are lucky."
   ]
  },
  {
   "cell_type": "code",
   "execution_count": 3,
   "id": "3b328c90",
   "metadata": {},
   "outputs": [
    {
     "name": "stdout",
     "output_type": "stream",
     "text": [
      "<class 'pandas.core.frame.DataFrame'>\n",
      "RangeIndex: 918 entries, 0 to 917\n",
      "Data columns (total 12 columns):\n",
      " #   Column          Non-Null Count  Dtype  \n",
      "---  ------          --------------  -----  \n",
      " 0   Age             918 non-null    int64  \n",
      " 1   Sex             918 non-null    object \n",
      " 2   ChestPainType   918 non-null    object \n",
      " 3   RestingBP       918 non-null    int64  \n",
      " 4   Cholesterol     918 non-null    int64  \n",
      " 5   FastingBS       918 non-null    int64  \n",
      " 6   RestingECG      918 non-null    object \n",
      " 7   MaxHR           918 non-null    int64  \n",
      " 8   ExerciseAngina  918 non-null    object \n",
      " 9   Oldpeak         918 non-null    float64\n",
      " 10  ST_Slope        918 non-null    object \n",
      " 11  HeartDisease    918 non-null    int64  \n",
      "dtypes: float64(1), int64(6), object(5)\n",
      "memory usage: 86.2+ KB\n"
     ]
    }
   ],
   "source": [
    "# data types and missing values.\n",
    "df.info()"
   ]
  },
  {
   "cell_type": "code",
   "execution_count": 4,
   "id": "5915e80f",
   "metadata": {},
   "outputs": [
    {
     "data": {
      "text/html": [
       "<div>\n",
       "<style scoped>\n",
       "    .dataframe tbody tr th:only-of-type {\n",
       "        vertical-align: middle;\n",
       "    }\n",
       "\n",
       "    .dataframe tbody tr th {\n",
       "        vertical-align: top;\n",
       "    }\n",
       "\n",
       "    .dataframe thead th {\n",
       "        text-align: right;\n",
       "    }\n",
       "</style>\n",
       "<table border=\"1\" class=\"dataframe\">\n",
       "  <thead>\n",
       "    <tr style=\"text-align: right;\">\n",
       "      <th></th>\n",
       "      <th>Age</th>\n",
       "      <th>RestingBP</th>\n",
       "      <th>Cholesterol</th>\n",
       "      <th>FastingBS</th>\n",
       "      <th>MaxHR</th>\n",
       "      <th>Oldpeak</th>\n",
       "      <th>HeartDisease</th>\n",
       "    </tr>\n",
       "  </thead>\n",
       "  <tbody>\n",
       "    <tr>\n",
       "      <th>count</th>\n",
       "      <td>918.000000</td>\n",
       "      <td>918.000000</td>\n",
       "      <td>918.000000</td>\n",
       "      <td>918.000000</td>\n",
       "      <td>918.000000</td>\n",
       "      <td>918.000000</td>\n",
       "      <td>918.000000</td>\n",
       "    </tr>\n",
       "    <tr>\n",
       "      <th>mean</th>\n",
       "      <td>53.510893</td>\n",
       "      <td>132.396514</td>\n",
       "      <td>198.799564</td>\n",
       "      <td>0.233115</td>\n",
       "      <td>136.809368</td>\n",
       "      <td>0.887364</td>\n",
       "      <td>0.553377</td>\n",
       "    </tr>\n",
       "    <tr>\n",
       "      <th>std</th>\n",
       "      <td>9.432617</td>\n",
       "      <td>18.514154</td>\n",
       "      <td>109.384145</td>\n",
       "      <td>0.423046</td>\n",
       "      <td>25.460334</td>\n",
       "      <td>1.066570</td>\n",
       "      <td>0.497414</td>\n",
       "    </tr>\n",
       "    <tr>\n",
       "      <th>min</th>\n",
       "      <td>28.000000</td>\n",
       "      <td>0.000000</td>\n",
       "      <td>0.000000</td>\n",
       "      <td>0.000000</td>\n",
       "      <td>60.000000</td>\n",
       "      <td>-2.600000</td>\n",
       "      <td>0.000000</td>\n",
       "    </tr>\n",
       "    <tr>\n",
       "      <th>25%</th>\n",
       "      <td>47.000000</td>\n",
       "      <td>120.000000</td>\n",
       "      <td>173.250000</td>\n",
       "      <td>0.000000</td>\n",
       "      <td>120.000000</td>\n",
       "      <td>0.000000</td>\n",
       "      <td>0.000000</td>\n",
       "    </tr>\n",
       "    <tr>\n",
       "      <th>50%</th>\n",
       "      <td>54.000000</td>\n",
       "      <td>130.000000</td>\n",
       "      <td>223.000000</td>\n",
       "      <td>0.000000</td>\n",
       "      <td>138.000000</td>\n",
       "      <td>0.600000</td>\n",
       "      <td>1.000000</td>\n",
       "    </tr>\n",
       "    <tr>\n",
       "      <th>75%</th>\n",
       "      <td>60.000000</td>\n",
       "      <td>140.000000</td>\n",
       "      <td>267.000000</td>\n",
       "      <td>0.000000</td>\n",
       "      <td>156.000000</td>\n",
       "      <td>1.500000</td>\n",
       "      <td>1.000000</td>\n",
       "    </tr>\n",
       "    <tr>\n",
       "      <th>max</th>\n",
       "      <td>77.000000</td>\n",
       "      <td>200.000000</td>\n",
       "      <td>603.000000</td>\n",
       "      <td>1.000000</td>\n",
       "      <td>202.000000</td>\n",
       "      <td>6.200000</td>\n",
       "      <td>1.000000</td>\n",
       "    </tr>\n",
       "  </tbody>\n",
       "</table>\n",
       "</div>"
      ],
      "text/plain": [
       "              Age   RestingBP  Cholesterol   FastingBS       MaxHR  \\\n",
       "count  918.000000  918.000000   918.000000  918.000000  918.000000   \n",
       "mean    53.510893  132.396514   198.799564    0.233115  136.809368   \n",
       "std      9.432617   18.514154   109.384145    0.423046   25.460334   \n",
       "min     28.000000    0.000000     0.000000    0.000000   60.000000   \n",
       "25%     47.000000  120.000000   173.250000    0.000000  120.000000   \n",
       "50%     54.000000  130.000000   223.000000    0.000000  138.000000   \n",
       "75%     60.000000  140.000000   267.000000    0.000000  156.000000   \n",
       "max     77.000000  200.000000   603.000000    1.000000  202.000000   \n",
       "\n",
       "          Oldpeak  HeartDisease  \n",
       "count  918.000000    918.000000  \n",
       "mean     0.887364      0.553377  \n",
       "std      1.066570      0.497414  \n",
       "min     -2.600000      0.000000  \n",
       "25%      0.000000      0.000000  \n",
       "50%      0.600000      1.000000  \n",
       "75%      1.500000      1.000000  \n",
       "max      6.200000      1.000000  "
      ]
     },
     "execution_count": 4,
     "metadata": {},
     "output_type": "execute_result"
    }
   ],
   "source": [
    "# descriptive statistics\n",
    "\n",
    "df.describe()"
   ]
  },
  {
   "cell_type": "markdown",
   "id": "304e8944",
   "metadata": {},
   "source": [
    "There is something interesting that caught my eye. The minimum resting blood pressure in the dataset is $0$. I am not a doctor, but this probably means the subject is dead. Similarly, minimum 'cholesterol' and 'FastingBS' are $0$. I read the description of the data. For 'FastingBs', it is $1$ if fasting blood sugar is greater than $120$ mg/dl and $0$ otherwise. So, 'FastingBS' is a categorical variable. However, there is no explanation for 'RestingBP' and 'cholesterol'. Therefore, I'll treat $0$ 'RestingBP' and 'cholesterol' as missing values and replace zeros with NaNs."
   ]
  },
  {
   "cell_type": "code",
   "execution_count": 5,
   "id": "b12fe88f",
   "metadata": {},
   "outputs": [],
   "source": [
    "import numpy as np\n",
    "\n",
    "df.loc[df[\"Cholesterol\"] == 0.0, \"Cholesterol\"] = np.NAN\n",
    "df.loc[df[\"RestingBP\"] == 0.0, \"RestingBP\"] = np.NAN"
   ]
  },
  {
   "cell_type": "code",
   "execution_count": 6,
   "id": "44fa963b",
   "metadata": {},
   "outputs": [
    {
     "name": "stdout",
     "output_type": "stream",
     "text": [
      "<class 'pandas.core.frame.DataFrame'>\n",
      "RangeIndex: 918 entries, 0 to 917\n",
      "Data columns (total 12 columns):\n",
      " #   Column          Non-Null Count  Dtype  \n",
      "---  ------          --------------  -----  \n",
      " 0   Age             918 non-null    int64  \n",
      " 1   Sex             918 non-null    object \n",
      " 2   ChestPainType   918 non-null    object \n",
      " 3   RestingBP       917 non-null    float64\n",
      " 4   Cholesterol     746 non-null    float64\n",
      " 5   FastingBS       918 non-null    int64  \n",
      " 6   RestingECG      918 non-null    object \n",
      " 7   MaxHR           918 non-null    int64  \n",
      " 8   ExerciseAngina  918 non-null    object \n",
      " 9   Oldpeak         918 non-null    float64\n",
      " 10  ST_Slope        918 non-null    object \n",
      " 11  HeartDisease    918 non-null    int64  \n",
      "dtypes: float64(3), int64(4), object(5)\n",
      "memory usage: 86.2+ KB\n"
     ]
    }
   ],
   "source": [
    "df.info()"
   ]
  },
  {
   "cell_type": "markdown",
   "id": "87550fc3",
   "metadata": {},
   "source": [
    "There is only one NaN in the RestingBP feature. So, I'll just drop that row from the entire dataset."
   ]
  },
  {
   "cell_type": "code",
   "execution_count": 7,
   "id": "c378ef4a",
   "metadata": {},
   "outputs": [
    {
     "data": {
      "text/plain": [
       "449   NaN\n",
       "Name: RestingBP, dtype: float64"
      ]
     },
     "execution_count": 7,
     "metadata": {},
     "output_type": "execute_result"
    }
   ],
   "source": [
    "# find the row with zero RestingBP\n",
    "\n",
    "df.RestingBP[df.RestingBP.isnull()]"
   ]
  },
  {
   "cell_type": "code",
   "execution_count": 8,
   "id": "2f565239",
   "metadata": {},
   "outputs": [
    {
     "data": {
      "text/plain": [
       "(917, 12)"
      ]
     },
     "execution_count": 8,
     "metadata": {},
     "output_type": "execute_result"
    }
   ],
   "source": [
    "# drop the row with zero RestingBP\n",
    "\n",
    "df.drop([449],axis=0,inplace=True)\n",
    "df.shape"
   ]
  },
  {
   "cell_type": "code",
   "execution_count": 9,
   "id": "1c51c9e6",
   "metadata": {},
   "outputs": [
    {
     "data": {
      "text/html": [
       "<div>\n",
       "<style scoped>\n",
       "    .dataframe tbody tr th:only-of-type {\n",
       "        vertical-align: middle;\n",
       "    }\n",
       "\n",
       "    .dataframe tbody tr th {\n",
       "        vertical-align: top;\n",
       "    }\n",
       "\n",
       "    .dataframe thead th {\n",
       "        text-align: right;\n",
       "    }\n",
       "</style>\n",
       "<table border=\"1\" class=\"dataframe\">\n",
       "  <thead>\n",
       "    <tr style=\"text-align: right;\">\n",
       "      <th></th>\n",
       "      <th>Age</th>\n",
       "      <th>Sex</th>\n",
       "      <th>ChestPainType</th>\n",
       "      <th>RestingBP</th>\n",
       "      <th>Cholesterol</th>\n",
       "      <th>FastingBS</th>\n",
       "      <th>RestingECG</th>\n",
       "      <th>MaxHR</th>\n",
       "      <th>ExerciseAngina</th>\n",
       "      <th>Oldpeak</th>\n",
       "      <th>ST_Slope</th>\n",
       "      <th>HeartDisease</th>\n",
       "    </tr>\n",
       "  </thead>\n",
       "  <tbody>\n",
       "    <tr>\n",
       "      <th>0</th>\n",
       "      <td>40</td>\n",
       "      <td>M</td>\n",
       "      <td>ATA</td>\n",
       "      <td>140.0</td>\n",
       "      <td>289.0</td>\n",
       "      <td>0</td>\n",
       "      <td>Normal</td>\n",
       "      <td>172</td>\n",
       "      <td>N</td>\n",
       "      <td>0.0</td>\n",
       "      <td>Up</td>\n",
       "      <td>0</td>\n",
       "    </tr>\n",
       "    <tr>\n",
       "      <th>1</th>\n",
       "      <td>49</td>\n",
       "      <td>F</td>\n",
       "      <td>NAP</td>\n",
       "      <td>160.0</td>\n",
       "      <td>180.0</td>\n",
       "      <td>0</td>\n",
       "      <td>Normal</td>\n",
       "      <td>156</td>\n",
       "      <td>N</td>\n",
       "      <td>1.0</td>\n",
       "      <td>Flat</td>\n",
       "      <td>1</td>\n",
       "    </tr>\n",
       "    <tr>\n",
       "      <th>2</th>\n",
       "      <td>37</td>\n",
       "      <td>M</td>\n",
       "      <td>ATA</td>\n",
       "      <td>130.0</td>\n",
       "      <td>283.0</td>\n",
       "      <td>0</td>\n",
       "      <td>ST</td>\n",
       "      <td>98</td>\n",
       "      <td>N</td>\n",
       "      <td>0.0</td>\n",
       "      <td>Up</td>\n",
       "      <td>0</td>\n",
       "    </tr>\n",
       "    <tr>\n",
       "      <th>3</th>\n",
       "      <td>48</td>\n",
       "      <td>F</td>\n",
       "      <td>ASY</td>\n",
       "      <td>138.0</td>\n",
       "      <td>214.0</td>\n",
       "      <td>0</td>\n",
       "      <td>Normal</td>\n",
       "      <td>108</td>\n",
       "      <td>Y</td>\n",
       "      <td>1.5</td>\n",
       "      <td>Flat</td>\n",
       "      <td>1</td>\n",
       "    </tr>\n",
       "    <tr>\n",
       "      <th>4</th>\n",
       "      <td>54</td>\n",
       "      <td>M</td>\n",
       "      <td>NAP</td>\n",
       "      <td>150.0</td>\n",
       "      <td>195.0</td>\n",
       "      <td>0</td>\n",
       "      <td>Normal</td>\n",
       "      <td>122</td>\n",
       "      <td>N</td>\n",
       "      <td>0.0</td>\n",
       "      <td>Up</td>\n",
       "      <td>0</td>\n",
       "    </tr>\n",
       "    <tr>\n",
       "      <th>...</th>\n",
       "      <td>...</td>\n",
       "      <td>...</td>\n",
       "      <td>...</td>\n",
       "      <td>...</td>\n",
       "      <td>...</td>\n",
       "      <td>...</td>\n",
       "      <td>...</td>\n",
       "      <td>...</td>\n",
       "      <td>...</td>\n",
       "      <td>...</td>\n",
       "      <td>...</td>\n",
       "      <td>...</td>\n",
       "    </tr>\n",
       "    <tr>\n",
       "      <th>912</th>\n",
       "      <td>45</td>\n",
       "      <td>M</td>\n",
       "      <td>TA</td>\n",
       "      <td>110.0</td>\n",
       "      <td>264.0</td>\n",
       "      <td>0</td>\n",
       "      <td>Normal</td>\n",
       "      <td>132</td>\n",
       "      <td>N</td>\n",
       "      <td>1.2</td>\n",
       "      <td>Flat</td>\n",
       "      <td>1</td>\n",
       "    </tr>\n",
       "    <tr>\n",
       "      <th>913</th>\n",
       "      <td>68</td>\n",
       "      <td>M</td>\n",
       "      <td>ASY</td>\n",
       "      <td>144.0</td>\n",
       "      <td>193.0</td>\n",
       "      <td>1</td>\n",
       "      <td>Normal</td>\n",
       "      <td>141</td>\n",
       "      <td>N</td>\n",
       "      <td>3.4</td>\n",
       "      <td>Flat</td>\n",
       "      <td>1</td>\n",
       "    </tr>\n",
       "    <tr>\n",
       "      <th>914</th>\n",
       "      <td>57</td>\n",
       "      <td>M</td>\n",
       "      <td>ASY</td>\n",
       "      <td>130.0</td>\n",
       "      <td>131.0</td>\n",
       "      <td>0</td>\n",
       "      <td>Normal</td>\n",
       "      <td>115</td>\n",
       "      <td>Y</td>\n",
       "      <td>1.2</td>\n",
       "      <td>Flat</td>\n",
       "      <td>1</td>\n",
       "    </tr>\n",
       "    <tr>\n",
       "      <th>915</th>\n",
       "      <td>57</td>\n",
       "      <td>F</td>\n",
       "      <td>ATA</td>\n",
       "      <td>130.0</td>\n",
       "      <td>236.0</td>\n",
       "      <td>0</td>\n",
       "      <td>LVH</td>\n",
       "      <td>174</td>\n",
       "      <td>N</td>\n",
       "      <td>0.0</td>\n",
       "      <td>Flat</td>\n",
       "      <td>1</td>\n",
       "    </tr>\n",
       "    <tr>\n",
       "      <th>916</th>\n",
       "      <td>38</td>\n",
       "      <td>M</td>\n",
       "      <td>NAP</td>\n",
       "      <td>138.0</td>\n",
       "      <td>175.0</td>\n",
       "      <td>0</td>\n",
       "      <td>Normal</td>\n",
       "      <td>173</td>\n",
       "      <td>N</td>\n",
       "      <td>0.0</td>\n",
       "      <td>Up</td>\n",
       "      <td>0</td>\n",
       "    </tr>\n",
       "  </tbody>\n",
       "</table>\n",
       "<p>917 rows × 12 columns</p>\n",
       "</div>"
      ],
      "text/plain": [
       "     Age Sex ChestPainType  RestingBP  Cholesterol  FastingBS RestingECG  \\\n",
       "0     40   M           ATA      140.0        289.0          0     Normal   \n",
       "1     49   F           NAP      160.0        180.0          0     Normal   \n",
       "2     37   M           ATA      130.0        283.0          0         ST   \n",
       "3     48   F           ASY      138.0        214.0          0     Normal   \n",
       "4     54   M           NAP      150.0        195.0          0     Normal   \n",
       "..   ...  ..           ...        ...          ...        ...        ...   \n",
       "912   45   M            TA      110.0        264.0          0     Normal   \n",
       "913   68   M           ASY      144.0        193.0          1     Normal   \n",
       "914   57   M           ASY      130.0        131.0          0     Normal   \n",
       "915   57   F           ATA      130.0        236.0          0        LVH   \n",
       "916   38   M           NAP      138.0        175.0          0     Normal   \n",
       "\n",
       "     MaxHR ExerciseAngina  Oldpeak ST_Slope  HeartDisease  \n",
       "0      172              N      0.0       Up             0  \n",
       "1      156              N      1.0     Flat             1  \n",
       "2       98              N      0.0       Up             0  \n",
       "3      108              Y      1.5     Flat             1  \n",
       "4      122              N      0.0       Up             0  \n",
       "..     ...            ...      ...      ...           ...  \n",
       "912    132              N      1.2     Flat             1  \n",
       "913    141              N      3.4     Flat             1  \n",
       "914    115              Y      1.2     Flat             1  \n",
       "915    174              N      0.0     Flat             1  \n",
       "916    173              N      0.0       Up             0  \n",
       "\n",
       "[917 rows x 12 columns]"
      ]
     },
     "execution_count": 9,
     "metadata": {},
     "output_type": "execute_result"
    }
   ],
   "source": [
    "# reset the index of the dataset after dropping a row\n",
    "df.reset_index(drop=True)"
   ]
  },
  {
   "cell_type": "markdown",
   "id": "273f7a0b",
   "metadata": {},
   "source": [
    "Let's visually inspect how many missing values we have in the data. For that, I'll use the nullity matrix. Visualizing missing values can provide an aspect that missing value numbers can't. For example, when I look at this data I see that the missing values concentrated in the first half of the dataset, especially in the 2nd quarter of the data. This made think that the missing values is potentially coming from one source. Because remember that the dataset we are working on is a combination of a few other datasets. "
   ]
  },
  {
   "cell_type": "code",
   "execution_count": 10,
   "id": "42c9f195",
   "metadata": {},
   "outputs": [
    {
     "data": {
      "text/plain": [
       "<AxesSubplot:>"
      ]
     },
     "execution_count": 10,
     "metadata": {},
     "output_type": "execute_result"
    },
    {
     "data": {
      "image/png": "[encoded data removed]",
      "text/plain": [
       "<Figure size 1440x432 with 2 Axes>"
      ]
     },
     "metadata": {
      "needs_background": "light"
     },
     "output_type": "display_data"
    }
   ],
   "source": [
    "import missingno as mno\n",
    "\n",
    "mno.matrix(df, figsize=(20,6))"
   ]
  },
  {
   "cell_type": "markdown",
   "id": "779b31a5",
   "metadata": {},
   "source": [
    "Now, I'll plot histrograms for numeric variables and barplots for categorical variables. Then, I'll take some notes about what I see in charts."
   ]
  },
  {
   "cell_type": "code",
   "execution_count": 11,
   "id": "e2801664",
   "metadata": {},
   "outputs": [],
   "source": [
    "# Separate the numeric and categorical variables since we drop a row from the dataset\n",
    "\n",
    "df_num = df[['Age','RestingBP','Cholesterol','MaxHR','Oldpeak']]\n",
    "df_cat = df[['Sex','ChestPainType','FastingBS','RestingECG','ExerciseAngina','ST_Slope']]"
   ]
  },
  {
   "cell_type": "code",
   "execution_count": 12,
   "id": "cf635020",
   "metadata": {},
   "outputs": [
    {
     "data": {
      "image/png": "[encoded data removed]",
      "text/plain": [
       "<Figure size 432x288 with 1 Axes>"
      ]
     },
     "metadata": {
      "needs_background": "light"
     },
     "output_type": "display_data"
    },
    {
     "data": {
      "image/png": "[encoded data removed]",
      "text/plain": [
       "<Figure size 432x288 with 1 Axes>"
      ]
     },
     "metadata": {
      "needs_background": "light"
     },
     "output_type": "display_data"
    },
    {
     "data": {
      "image/png": "[encoded data removed]",
      "text/plain": [
       "<Figure size 432x288 with 1 Axes>"
      ]
     },
     "metadata": {
      "needs_background": "light"
     },
     "output_type": "display_data"
    },
    {
     "data": {
      "image/png": "[encoded data removed]",
      "text/plain": [
       "<Figure size 432x288 with 1 Axes>"
      ]
     },
     "metadata": {
      "needs_background": "light"
     },
     "output_type": "display_data"
    },
    {
     "data": {
      "image/png": "[encoded data removed]",
      "text/plain": [
       "<Figure size 432x288 with 1 Axes>"
      ]
     },
     "metadata": {
      "needs_background": "light"
     },
     "output_type": "display_data"
    }
   ],
   "source": [
    "import matplotlib.pyplot as plt\n",
    "\n",
    "for i in df_num.columns:\n",
    "    plt.hist(df_num[i])\n",
    "    plt.title(i)\n",
    "    plt.show()"
   ]
  },
  {
   "cell_type": "markdown",
   "id": "60508e0a",
   "metadata": {},
   "source": [
    "Non of the numeric features seems to be extremely skewed except, maybe, the Oldpeak. I see that Cholesterol feature have some outliers and we can deal with it later. Finally, I'll make a pivot table to quickly look at the averages of numeric attributes for people with heart disease and no heart disease."
   ]
  },
  {
   "cell_type": "code",
   "execution_count": 13,
   "id": "dfcce46f",
   "metadata": {},
   "outputs": [
    {
     "data": {
      "text/html": [
       "<div>\n",
       "<style scoped>\n",
       "    .dataframe tbody tr th:only-of-type {\n",
       "        vertical-align: middle;\n",
       "    }\n",
       "\n",
       "    .dataframe tbody tr th {\n",
       "        vertical-align: top;\n",
       "    }\n",
       "\n",
       "    .dataframe thead th {\n",
       "        text-align: right;\n",
       "    }\n",
       "</style>\n",
       "<table border=\"1\" class=\"dataframe\">\n",
       "  <thead>\n",
       "    <tr style=\"text-align: right;\">\n",
       "      <th></th>\n",
       "      <th>Age</th>\n",
       "      <th>Cholesterol</th>\n",
       "      <th>MaxHR</th>\n",
       "      <th>Oldpeak</th>\n",
       "      <th>RestingBP</th>\n",
       "    </tr>\n",
       "    <tr>\n",
       "      <th>HeartDisease</th>\n",
       "      <th></th>\n",
       "      <th></th>\n",
       "      <th></th>\n",
       "      <th></th>\n",
       "      <th></th>\n",
       "    </tr>\n",
       "  </thead>\n",
       "  <tbody>\n",
       "    <tr>\n",
       "      <th>0</th>\n",
       "      <td>50.551220</td>\n",
       "      <td>238.769231</td>\n",
       "      <td>148.151220</td>\n",
       "      <td>0.408049</td>\n",
       "      <td>130.180488</td>\n",
       "    </tr>\n",
       "    <tr>\n",
       "      <th>1</th>\n",
       "      <td>55.901381</td>\n",
       "      <td>251.061798</td>\n",
       "      <td>127.601578</td>\n",
       "      <td>1.273767</td>\n",
       "      <td>134.449704</td>\n",
       "    </tr>\n",
       "  </tbody>\n",
       "</table>\n",
       "</div>"
      ],
      "text/plain": [
       "                    Age  Cholesterol       MaxHR   Oldpeak   RestingBP\n",
       "HeartDisease                                                          \n",
       "0             50.551220   238.769231  148.151220  0.408049  130.180488\n",
       "1             55.901381   251.061798  127.601578  1.273767  134.449704"
      ]
     },
     "execution_count": 13,
     "metadata": {},
     "output_type": "execute_result"
    }
   ],
   "source": [
    "# create a pivot table for numeric attributes\n",
    "\n",
    "pd.pivot_table(df, index = 'HeartDisease', values = ['Age','RestingBP','Cholesterol','MaxHR','Oldpeak'])"
   ]
  },
  {
   "cell_type": "markdown",
   "id": "a40ddf97",
   "metadata": {},
   "source": [
    "First thoughts about what numeric features indicate:\n",
    "\n",
    "1. Average age for heart disease is around 56.\n",
    "2. Although we haven't imputed Cholesterol yet, subjects with heart disease seem to have a relatively higher average cholesterol.\n",
    "3. Healthy individuals have a higher average maximum heart rate than subjects with heart disease.\n",
    "4. Average Oldpeak is greater in subjects with heart disease.\n",
    "5. Resting blood pressure of unhealthy individuals is higher.\n",
    "\n",
    "I'll look at the correlation between numeric features before I start exploring categorical variables."
   ]
  },
  {
   "cell_type": "code",
   "execution_count": 14,
   "id": "8d82d672",
   "metadata": {},
   "outputs": [
    {
     "data": {
      "text/plain": [
       "SpearmanrResult(correlation=array([[ 1.        ,  0.28010827,         nan, -0.36528433,  0.29830062],\n",
       "       [ 0.28010827,  1.        ,         nan, -0.10620458,  0.17721514],\n",
       "       [        nan,         nan,         nan,         nan,         nan],\n",
       "       [-0.36528433, -0.10620458,         nan,  1.        , -0.2058892 ],\n",
       "       [ 0.29830062,  0.17721514,         nan, -0.2058892 ,  1.        ]]), pvalue=array([[0.00000000e+00, 5.41368637e-18, 1.39307068e-06, 2.51200700e-30,\n",
       "        2.66099782e-20],\n",
       "       [5.41368637e-18, 0.00000000e+00, 4.23031587e-01, 1.27826941e-03,\n",
       "        6.59307351e-08],\n",
       "       [1.39307068e-06, 4.23031587e-01, 0.00000000e+00, 3.83385171e-09,\n",
       "        9.30871629e-02],\n",
       "       [2.51200700e-30, 1.27826941e-03, 3.83385171e-09, 0.00000000e+00,\n",
       "        3.09820562e-10],\n",
       "       [2.66099782e-20, 6.59307351e-08, 9.30871629e-02, 3.09820562e-10,\n",
       "        0.00000000e+00]]))"
      ]
     },
     "execution_count": 14,
     "metadata": {},
     "output_type": "execute_result"
    }
   ],
   "source": [
    "# run Spearman's Rank-Order Correlation test on numeric values\n",
    "from scipy import stats\n",
    "stats.spearmanr(df_num)"
   ]
  },
  {
   "cell_type": "code",
   "execution_count": 15,
   "id": "b6e189d3",
   "metadata": {},
   "outputs": [
    {
     "data": {
      "text/plain": [
       "<AxesSubplot:>"
      ]
     },
     "execution_count": 15,
     "metadata": {},
     "output_type": "execute_result"
    },
    {
     "data": {
      "image/png": "[encoded data removed]",
      "text/plain": [
       "<Figure size 432x288 with 2 Axes>"
      ]
     },
     "metadata": {
      "needs_background": "light"
     },
     "output_type": "display_data"
    }
   ],
   "source": [
    "# Visualize correlation between values as a heatmap\n",
    "\n",
    "import seaborn as sns\n",
    "\n",
    "sns.heatmap(stats.spearmanr(df_num)[0], annot=True)"
   ]
  },
  {
   "cell_type": "markdown",
   "id": "92973786",
   "metadata": {},
   "source": [
    "First of all, we don't have any information about the correlation between cholesterol and other numeric features because cholesterol feature has NaNs. With that, majority of the correlations are statistically significant. However, test results indicate that there isn't moderate or strong correlation between any pairs. "
   ]
  },
  {
   "cell_type": "code",
   "execution_count": 16,
   "id": "b71c3482",
   "metadata": {},
   "outputs": [
    {
     "data": {
      "image/png": "[encoded data removed]",
      "text/plain": [
       "<Figure size 432x288 with 1 Axes>"
      ]
     },
     "metadata": {
      "needs_background": "light"
     },
     "output_type": "display_data"
    },
    {
     "data": {
      "image/png": "[encoded data removed]",
      "text/plain": [
       "<Figure size 432x288 with 1 Axes>"
      ]
     },
     "metadata": {
      "needs_background": "light"
     },
     "output_type": "display_data"
    },
    {
     "data": {
      "image/png": "[encoded data removed]",
      "text/plain": [
       "<Figure size 432x288 with 1 Axes>"
      ]
     },
     "metadata": {
      "needs_background": "light"
     },
     "output_type": "display_data"
    },
    {
     "data": {
      "image/png": "[encoded data removed]",
      "text/plain": [
       "<Figure size 432x288 with 1 Axes>"
      ]
     },
     "metadata": {
      "needs_background": "light"
     },
     "output_type": "display_data"
    },
    {
     "data": {
      "image/png": "[encoded data removed]",
      "text/plain": [
       "<Figure size 432x288 with 1 Axes>"
      ]
     },
     "metadata": {
      "needs_background": "light"
     },
     "output_type": "display_data"
    },
    {
     "data": {
      "image/png": "[encoded data removed]",
      "text/plain": [
       "<Figure size 432x288 with 1 Axes>"
      ]
     },
     "metadata": {
      "needs_background": "light"
     },
     "output_type": "display_data"
    }
   ],
   "source": [
    "import seaborn as sns\n",
    "\n",
    "for i in df_cat.columns:\n",
    "    sns.barplot(x=df_cat[i].value_counts().index, y=df_cat[i].value_counts()).set_title(i)\n",
    "    plt.show()"
   ]
  },
  {
   "cell_type": "markdown",
   "id": "265ed698",
   "metadata": {},
   "source": [
    "Here are my notes for barplots above:\n",
    "\n",
    "1. The number of male subjects participated in the study are $3$ times more than the female subjects.\n",
    "2. Out of $4$ chestpain types, 'ASY' is the most abundant. ASY is short for 'asymptomatic'. I guess it refers to no-chest pain. 'NAP' is the second most abundant category. It means non-anginal pain. This means the chest pain is not due to a heart condition but because of a muscle problem or something else. The other two, 'ATA' and 'TA' are actually heart pains and they are the two least abundant chest pain types in the dataset.\n",
    "3. Most subjects have a resting blood sugar (RestingBS) less than $120$ mg/dl.\n",
    "4. Majority of the subjects don't have an exercise-induced angina (heart pain). However, the number of patients with ExerciseAngina is more than half of the no-ExerciseAngina group.\n",
    "5. I don't know what ST_Slope means. So, I'll just describe what I quantitatively see. The number of 'Flat' and 'Up' are close to each other and significantly more than 'Down'.\n",
    "\n",
    "Now, let's look at pivot tables for categorical variables. Because barplots doesn't tell us anything about the distribution of heart disease in categories."
   ]
  },
  {
   "cell_type": "code",
   "execution_count": 17,
   "id": "4be3e98f",
   "metadata": {},
   "outputs": [
    {
     "name": "stdout",
     "output_type": "stream",
     "text": [
      "Sex             F    M\n",
      "HeartDisease          \n",
      "0             143  267\n",
      "1              50  457\n",
      "\n",
      "ChestPainType  ASY  ATA  NAP  TA\n",
      "HeartDisease                    \n",
      "0              104  149  131  26\n",
      "1              392   24   71  20\n",
      "\n",
      "FastingBS       0    1\n",
      "HeartDisease          \n",
      "0             366   44\n",
      "1             337  170\n",
      "\n",
      "RestingECG    LVH  Normal   ST\n",
      "HeartDisease                  \n",
      "0              82     267   61\n",
      "1             106     284  117\n",
      "\n",
      "ExerciseAngina    N    Y\n",
      "HeartDisease            \n",
      "0               355   55\n",
      "1               191  316\n",
      "\n",
      "ST_Slope      Down  Flat   Up\n",
      "HeartDisease                 \n",
      "0               14    79  317\n",
      "1               49   380   78\n"
     ]
    }
   ],
   "source": [
    "# Comparing survival and each of these categorical variables \n",
    "print(pd.pivot_table(df, index = 'HeartDisease', columns = 'Sex', values = 'Age' ,aggfunc ='count'))\n",
    "print()\n",
    "print(pd.pivot_table(df, index = 'HeartDisease', columns = 'ChestPainType', values = 'Age' ,aggfunc ='count'))\n",
    "print()\n",
    "print(pd.pivot_table(df, index = 'HeartDisease', columns = 'FastingBS', values = 'Age' ,aggfunc ='count'))\n",
    "print()\n",
    "print(pd.pivot_table(df, index = 'HeartDisease', columns = 'RestingECG', values = 'Age' ,aggfunc ='count'))\n",
    "print()\n",
    "print(pd.pivot_table(df, index = 'HeartDisease', columns = 'ExerciseAngina', values = 'Age' ,aggfunc ='count'))\n",
    "print()\n",
    "print(pd.pivot_table(df, index = 'HeartDisease', columns = 'ST_Slope', values = 'Age' ,aggfunc ='count'))"
   ]
  },
  {
   "cell_type": "markdown",
   "id": "d04e1841",
   "metadata": {},
   "source": [
    "Here are my notes:\n",
    "\n",
    "1. Majority of the female subjects have no heart disease, while two-thirds of male subjects have a heart disease. It is possible that sex is a big factor when predicting heart disease.\n",
    "2. Interestingly, $80$% of the subjects with asymptomatic chest pain have a heart disease. Subjects with atypical angina (ATA) is the group with least heart disease, while half or more than half of the NAP and TA groups have heart disease.\n",
    "3. Significant amount of subjects with resting blood sugar (RestingBS) over $120$ mg/dl have a heart disease.\n",
    "4. Subjects with non-normal RestingECG are more likely to have a heart disease compared to subjects with normal RestingECG\n",
    "5. It seems like majority of te subjects with exercise-induced heart paint (ExerciseAngina) have a heart disease.\n",
    "6. Finally, majority of the subjects with 'Down' and 'Flat' groups in ST_Slope have a heart disease."
   ]
  },
  {
   "cell_type": "markdown",
   "id": "9849c530",
   "metadata": {},
   "source": [
    "## Part 4: Feature Engineering\n",
    "\n",
    "The dataset looks pretty good to me. Each feature in the dataset seem to be clean. I don't think that I'll do any feature engineering in this project. At least, this is my initial thought. However, there is some room to improve the quality of the data. To achieve a better data quality, I'll preprocess the data to:\n",
    "\n",
    "1. treat some values as missing values, and remove or impute them,\n",
    "2. remove outliers,\n",
    "3. Convert categorical values to numeric values."
   ]
  },
  {
   "cell_type": "markdown",
   "id": "69774b90",
   "metadata": {},
   "source": [
    "## Part 5: Data Preprocessing\n",
    "\n",
    "I want to take a closer look at the missing cholesterol values, especially the distribution of the heart disease among this group.\n",
    "\n",
    "### Cholesterol Problem"
   ]
  },
  {
   "cell_type": "code",
   "execution_count": 18,
   "id": "f39d3354",
   "metadata": {},
   "outputs": [
    {
     "data": {
      "text/plain": [
       "1    151\n",
       "0     20\n",
       "Name: HeartDisease, dtype: int64"
      ]
     },
     "execution_count": 18,
     "metadata": {},
     "output_type": "execute_result"
    }
   ],
   "source": [
    "zero_chol = df[df['Cholesterol'].isnull()]\n",
    "zero_chol['HeartDisease'].value_counts()"
   ]
  },
  {
   "cell_type": "markdown",
   "id": "d6003a02",
   "metadata": {},
   "source": [
    "This is surprising. Majority of the samples with missing cholesterol values have a heart disease. So, I believe that imputing missing cholesterol values with a single value can lower the data quality. The number of missing values in the 'Cholesterol' column is a significant amount, but is not he majority of the data. So, I will try imputing missing values using a **stochastic regression imputation**. Because replacing missing values with a single value introduce a bias to the dataset which reduces the accuracy of the model. On the other hand, stochastic regression imputation help us preserve the original distribution of the given feature as much as we can. We could also use the **regression imputation**. However, the regression imputation is deterministic. It means the predictions lie on the regression line. Therefore, the regression imputation also introduce some bias to the model compared to the stochastic regression imputation. To read more about it, use the link below:\n",
    "\n",
    "https://www.kaggle.com/shashankasubrahmanya/missing-data-imputation-using-regression\n",
    "\n",
    "But before, I'll replace NaNs with random values from the existing Cholesterol values."
   ]
  },
  {
   "cell_type": "code",
   "execution_count": 19,
   "id": "8f02bf37",
   "metadata": {},
   "outputs": [],
   "source": [
    "# Add a new column to the dataset and count the number of missing values\n",
    "\n",
    "df['Cholesterol' + '_imp'] = df['Cholesterol']\n",
    "number_missing = df['Cholesterol'].isnull().sum()"
   ]
  },
  {
   "cell_type": "code",
   "execution_count": 20,
   "id": "0d1d0943",
   "metadata": {},
   "outputs": [],
   "source": [
    "# Copy the Cholesterol values to the Cholesterol_imp column and replace NaN in the Cholesterol_imp column\n",
    "\n",
    "np.random.seed(7) # setting a seed value to get the same result every time\n",
    "\n",
    "number_missing = df['Cholesterol'].isnull().sum()\n",
    "observed_values = df.loc[df['Cholesterol'].notnull(), 'Cholesterol']\n",
    "df['Cholesterol' + '_imp'] = df['Cholesterol']\n",
    "df.loc[df['Cholesterol'].isnull(), 'Cholesterol_imp'] = np.random.choice(observed_values, number_missing, replace = True)"
   ]
  },
  {
   "cell_type": "code",
   "execution_count": 21,
   "id": "eda05a29",
   "metadata": {},
   "outputs": [
    {
     "name": "stdout",
     "output_type": "stream",
     "text": [
      "<class 'pandas.core.frame.DataFrame'>\n",
      "Int64Index: 917 entries, 0 to 917\n",
      "Data columns (total 13 columns):\n",
      " #   Column           Non-Null Count  Dtype  \n",
      "---  ------           --------------  -----  \n",
      " 0   Age              917 non-null    int64  \n",
      " 1   Sex              917 non-null    object \n",
      " 2   ChestPainType    917 non-null    object \n",
      " 3   RestingBP        917 non-null    float64\n",
      " 4   Cholesterol      746 non-null    float64\n",
      " 5   FastingBS        917 non-null    int64  \n",
      " 6   RestingECG       917 non-null    object \n",
      " 7   MaxHR            917 non-null    int64  \n",
      " 8   ExerciseAngina   917 non-null    object \n",
      " 9   Oldpeak          917 non-null    float64\n",
      " 10  ST_Slope         917 non-null    object \n",
      " 11  HeartDisease     917 non-null    int64  \n",
      " 12  Cholesterol_imp  917 non-null    float64\n",
      "dtypes: float64(4), int64(4), object(5)\n",
      "memory usage: 100.3+ KB\n"
     ]
    }
   ],
   "source": [
    "# checking if random imputation worked\n",
    "df.info()"
   ]
  },
  {
   "cell_type": "markdown",
   "id": "b3a73652",
   "metadata": {},
   "source": [
    "Can we explore the subset of the data with missing cholesterol values further? Yes! Should we? Maybe. However, I should start somewhere, at least to have baseline to improve upon. So, I'll exploring the subset of data with missing values here and go on with the stochastic regression imputation. To do that, though, I'll first convert categorical variables to numeric variables."
   ]
  },
  {
   "cell_type": "markdown",
   "id": "77f32547",
   "metadata": {},
   "source": [
    "### Converting Categorical Variables to Numeric Variables\n",
    "\n",
    "For that, we are going to use the get_dummies( ) function in pandas. This function creates binary features from the subcategories of each categorical variables. It will be more clear once I do it. Before I do the conversion, I will convert FastingBS from integer to string."
   ]
  },
  {
   "cell_type": "code",
   "execution_count": 22,
   "id": "1ff3339c",
   "metadata": {},
   "outputs": [
    {
     "name": "stderr",
     "output_type": "stream",
     "text": [
      "/Users/mk/opt/anaconda3/lib/python3.8/site-packages/pandas/core/generic.py:5516: SettingWithCopyWarning: \n",
      "A value is trying to be set on a copy of a slice from a DataFrame.\n",
      "Try using .loc[row_indexer,col_indexer] = value instead\n",
      "\n",
      "See the caveats in the documentation: https://pandas.pydata.org/pandas-docs/stable/user_guide/indexing.html#returning-a-view-versus-a-copy\n",
      "  self[name] = value\n"
     ]
    },
    {
     "data": {
      "text/html": [
       "<div>\n",
       "<style scoped>\n",
       "    .dataframe tbody tr th:only-of-type {\n",
       "        vertical-align: middle;\n",
       "    }\n",
       "\n",
       "    .dataframe tbody tr th {\n",
       "        vertical-align: top;\n",
       "    }\n",
       "\n",
       "    .dataframe thead th {\n",
       "        text-align: right;\n",
       "    }\n",
       "</style>\n",
       "<table border=\"1\" class=\"dataframe\">\n",
       "  <thead>\n",
       "    <tr style=\"text-align: right;\">\n",
       "      <th></th>\n",
       "      <th>Sex_M</th>\n",
       "      <th>ChestPainType_ATA</th>\n",
       "      <th>ChestPainType_NAP</th>\n",
       "      <th>ChestPainType_TA</th>\n",
       "      <th>FastingBS_1</th>\n",
       "      <th>RestingECG_Normal</th>\n",
       "      <th>RestingECG_ST</th>\n",
       "      <th>ExerciseAngina_Y</th>\n",
       "      <th>ST_Slope_Flat</th>\n",
       "      <th>ST_Slope_Up</th>\n",
       "    </tr>\n",
       "  </thead>\n",
       "  <tbody>\n",
       "    <tr>\n",
       "      <th>0</th>\n",
       "      <td>1</td>\n",
       "      <td>1</td>\n",
       "      <td>0</td>\n",
       "      <td>0</td>\n",
       "      <td>0</td>\n",
       "      <td>1</td>\n",
       "      <td>0</td>\n",
       "      <td>0</td>\n",
       "      <td>0</td>\n",
       "      <td>1</td>\n",
       "    </tr>\n",
       "    <tr>\n",
       "      <th>1</th>\n",
       "      <td>0</td>\n",
       "      <td>0</td>\n",
       "      <td>1</td>\n",
       "      <td>0</td>\n",
       "      <td>0</td>\n",
       "      <td>1</td>\n",
       "      <td>0</td>\n",
       "      <td>0</td>\n",
       "      <td>1</td>\n",
       "      <td>0</td>\n",
       "    </tr>\n",
       "    <tr>\n",
       "      <th>2</th>\n",
       "      <td>1</td>\n",
       "      <td>1</td>\n",
       "      <td>0</td>\n",
       "      <td>0</td>\n",
       "      <td>0</td>\n",
       "      <td>0</td>\n",
       "      <td>1</td>\n",
       "      <td>0</td>\n",
       "      <td>0</td>\n",
       "      <td>1</td>\n",
       "    </tr>\n",
       "    <tr>\n",
       "      <th>3</th>\n",
       "      <td>0</td>\n",
       "      <td>0</td>\n",
       "      <td>0</td>\n",
       "      <td>0</td>\n",
       "      <td>0</td>\n",
       "      <td>1</td>\n",
       "      <td>0</td>\n",
       "      <td>1</td>\n",
       "      <td>1</td>\n",
       "      <td>0</td>\n",
       "    </tr>\n",
       "    <tr>\n",
       "      <th>4</th>\n",
       "      <td>1</td>\n",
       "      <td>0</td>\n",
       "      <td>1</td>\n",
       "      <td>0</td>\n",
       "      <td>0</td>\n",
       "      <td>1</td>\n",
       "      <td>0</td>\n",
       "      <td>0</td>\n",
       "      <td>0</td>\n",
       "      <td>1</td>\n",
       "    </tr>\n",
       "  </tbody>\n",
       "</table>\n",
       "</div>"
      ],
      "text/plain": [
       "   Sex_M  ChestPainType_ATA  ChestPainType_NAP  ChestPainType_TA  FastingBS_1  \\\n",
       "0      1                  1                  0                 0            0   \n",
       "1      0                  0                  1                 0            0   \n",
       "2      1                  1                  0                 0            0   \n",
       "3      0                  0                  0                 0            0   \n",
       "4      1                  0                  1                 0            0   \n",
       "\n",
       "   RestingECG_Normal  RestingECG_ST  ExerciseAngina_Y  ST_Slope_Flat  \\\n",
       "0                  1              0                 0              0   \n",
       "1                  1              0                 0              1   \n",
       "2                  0              1                 0              0   \n",
       "3                  1              0                 1              1   \n",
       "4                  1              0                 0              0   \n",
       "\n",
       "   ST_Slope_Up  \n",
       "0            1  \n",
       "1            0  \n",
       "2            1  \n",
       "3            0  \n",
       "4            1  "
      ]
     },
     "execution_count": 22,
     "metadata": {},
     "output_type": "execute_result"
    }
   ],
   "source": [
    "# Convert categorical variables to numeric variables\n",
    "\n",
    "df_cat.FastingBS = df_cat.FastingBS.astype(str)\n",
    "df_cat_converted=pd.get_dummies(df_cat,drop_first=True)\n",
    "df_cat_converted.head()"
   ]
  },
  {
   "cell_type": "markdown",
   "id": "b825e4a8",
   "metadata": {},
   "source": [
    "Now, we will drop the original categorical features and add the converted ones."
   ]
  },
  {
   "cell_type": "code",
   "execution_count": 23,
   "id": "e49b55b6",
   "metadata": {},
   "outputs": [],
   "source": [
    "# Drop the original categorical features and add the converted ones\n",
    "\n",
    "df.drop(df_cat, axis=1, inplace=True)\n",
    "df_converted = pd.concat([df,df_cat_converted], axis=1)"
   ]
  },
  {
   "cell_type": "code",
   "execution_count": 24,
   "id": "52e61227",
   "metadata": {},
   "outputs": [
    {
     "name": "stdout",
     "output_type": "stream",
     "text": [
      "<class 'pandas.core.frame.DataFrame'>\n",
      "Int64Index: 917 entries, 0 to 917\n",
      "Data columns (total 17 columns):\n",
      " #   Column             Non-Null Count  Dtype  \n",
      "---  ------             --------------  -----  \n",
      " 0   Age                917 non-null    int64  \n",
      " 1   RestingBP          917 non-null    float64\n",
      " 2   Cholesterol        746 non-null    float64\n",
      " 3   MaxHR              917 non-null    int64  \n",
      " 4   Oldpeak            917 non-null    float64\n",
      " 5   HeartDisease       917 non-null    int64  \n",
      " 6   Cholesterol_imp    917 non-null    float64\n",
      " 7   Sex_M              917 non-null    uint8  \n",
      " 8   ChestPainType_ATA  917 non-null    uint8  \n",
      " 9   ChestPainType_NAP  917 non-null    uint8  \n",
      " 10  ChestPainType_TA   917 non-null    uint8  \n",
      " 11  FastingBS_1        917 non-null    uint8  \n",
      " 12  RestingECG_Normal  917 non-null    uint8  \n",
      " 13  RestingECG_ST      917 non-null    uint8  \n",
      " 14  ExerciseAngina_Y   917 non-null    uint8  \n",
      " 15  ST_Slope_Flat      917 non-null    uint8  \n",
      " 16  ST_Slope_Up        917 non-null    uint8  \n",
      "dtypes: float64(4), int64(3), uint8(10)\n",
      "memory usage: 66.3 KB\n"
     ]
    }
   ],
   "source": [
    "df_converted.info()"
   ]
  },
  {
   "cell_type": "markdown",
   "id": "ed76e999",
   "metadata": {},
   "source": [
    "Good! It looks like we converted all categorical variables to numeric data type 'uint8'. uint8 is an abbreviation for 'unsigned integer' which are numbers from $0$ to $255$.\n",
    "\n",
    "Now the dataset is ready for performing the stochastic regression imputation on it."
   ]
  },
  {
   "cell_type": "markdown",
   "id": "2298d834",
   "metadata": {},
   "source": [
    "### Stochastic Regression Imputation on the Cholesterol Feature\n",
    "\n",
    "We will basically build a quick regression model to predict the missing cholesterol values using all other features in the dataset including the 'HeartDisease' column, which is our dependent variable. In this section, I'll copy a few lines of code and rearrange it from the link below:\n",
    "\n",
    "https://www.kaggle.com/shashankasubrahmanya/missing-data-imputation-using-regression"
   ]
  },
  {
   "cell_type": "code",
   "execution_count": 25,
   "id": "c2078128",
   "metadata": {},
   "outputs": [],
   "source": [
    "# Add a new column 'Cholesterol_stoch' and copy values from the 'Cholesterol_imp'\n",
    "\n",
    "df_converted['Cholesterol_stoch'] = df['Cholesterol_imp']"
   ]
  },
  {
   "cell_type": "code",
   "execution_count": 26,
   "id": "7a9ee033",
   "metadata": {},
   "outputs": [
    {
     "data": {
      "text/plain": [
       "Index(['Age', 'RestingBP', 'Cholesterol', 'MaxHR', 'Oldpeak', 'HeartDisease',\n",
       "       'Cholesterol_imp', 'Sex_M', 'ChestPainType_ATA', 'ChestPainType_NAP',\n",
       "       'ChestPainType_TA', 'FastingBS_1', 'RestingECG_Normal', 'RestingECG_ST',\n",
       "       'ExerciseAngina_Y', 'ST_Slope_Flat', 'ST_Slope_Up',\n",
       "       'Cholesterol_stoch'],\n",
       "      dtype='object')"
      ]
     },
     "execution_count": 26,
     "metadata": {},
     "output_type": "execute_result"
    }
   ],
   "source": [
    "# Get column names\n",
    "\n",
    "df_converted.columns"
   ]
  },
  {
   "cell_type": "code",
   "execution_count": 27,
   "id": "87e3a1be",
   "metadata": {},
   "outputs": [],
   "source": [
    "# Create a list of parameters. Exclude 'Cholesterol', 'Cholesterol_imp', and 'Colesterol_stoch'\n",
    "\n",
    "parameters = ['Age', 'RestingBP', 'MaxHR', 'Oldpeak', 'HeartDisease', \n",
    "              'Sex_M', 'ChestPainType_ATA', 'ChestPainType_NAP',\n",
    "       'ChestPainType_TA', 'FastingBS_1', 'RestingECG_Normal', 'RestingECG_ST',\n",
    "       'ExerciseAngina_Y', 'ST_Slope_Flat', 'ST_Slope_Up']"
   ]
  },
  {
   "cell_type": "code",
   "execution_count": 28,
   "id": "466e32d6",
   "metadata": {},
   "outputs": [
    {
     "data": {
      "text/plain": [
       "LinearRegression()"
      ]
     },
     "execution_count": 28,
     "metadata": {},
     "output_type": "execute_result"
    }
   ],
   "source": [
    "# Build a linear regression model\n",
    "\n",
    "from sklearn.linear_model import LinearRegression\n",
    "\n",
    "lr = LinearRegression()\n",
    "lr.fit(X = df_converted[parameters], y = df_converted['Cholesterol_imp'])"
   ]
  },
  {
   "cell_type": "code",
   "execution_count": 29,
   "id": "bd5cc743",
   "metadata": {},
   "outputs": [],
   "source": [
    "# Predict 'Cholesterol' values\n",
    "\n",
    "predict = lr.predict(df_converted[parameters])"
   ]
  },
  {
   "cell_type": "code",
   "execution_count": 30,
   "id": "09c68fed",
   "metadata": {},
   "outputs": [
    {
     "name": "stdout",
     "output_type": "stream",
     "text": [
      "Standard Error: 57.66104455837686\n"
     ]
    }
   ],
   "source": [
    "# Calculate standard error. Below, this will be used to add noise to predictions \n",
    "\n",
    "std_error = (predict[df_converted['Cholesterol'].notnull()] - df_converted.loc[df['Cholesterol'].notnull(), 'Cholesterol_imp']).std()\n",
    "print('Standard Error: {0}'.format(std_error))"
   ]
  },
  {
   "cell_type": "code",
   "execution_count": 31,
   "id": "ca2b6bdb",
   "metadata": {},
   "outputs": [],
   "source": [
    "# replace randomly imputed Cholesterol values with the ones from the stochastic regression imputation\n",
    "\n",
    "random_predict = np.random.normal(size = df_converted['Cholesterol'].shape[0], loc = predict, scale = std_error)\n",
    "df_converted.loc[(df_converted['Cholesterol'].isnull()) & (random_predict > 0), 'Cholesterol_stoch'] = random_predict[(df_converted['Cholesterol'].isnull()) & \n",
    "                                                                            (random_predict > 0)]"
   ]
  },
  {
   "cell_type": "markdown",
   "id": "fa8f2781",
   "metadata": {},
   "source": [
    "The stochastic regression imputation generated a very similar distribution compared to the original Cholesterol feature excluding zeros. Below histrograms and boxplots compare the Cholesterol and Cholesterol_stoch features."
   ]
  },
  {
   "cell_type": "code",
   "execution_count": 33,
   "id": "1d048b0c",
   "metadata": {},
   "outputs": [
    {
     "name": "stderr",
     "output_type": "stream",
     "text": [
      "/Users/mk/opt/anaconda3/lib/python3.8/site-packages/seaborn/distributions.py:2619: FutureWarning: `distplot` is a deprecated function and will be removed in a future version. Please adapt your code to use either `displot` (a figure-level function with similar flexibility) or `histplot` (an axes-level function for histograms).\n",
      "  warnings.warn(msg, FutureWarning)\n"
     ]
    },
    {
     "data": {
      "image/png": "[encoded data removed]",
      "text/plain": [
       "<Figure size 864x432 with 2 Axes>"
      ]
     },
     "metadata": {},
     "output_type": "display_data"
    }
   ],
   "source": [
    "# compare values generated by random imputation and stochastic regression imputation \n",
    "# by plotting histograms and boxplots\n",
    "\n",
    "sns.set()\n",
    "fig, axes = plt.subplots(nrows = 1, ncols = 2)\n",
    "fig.set_size_inches(12, 6)\n",
    "\n",
    "sns.distplot(df_converted['Cholesterola'].dropna(), kde = False, ax = axes[0])\n",
    "sns.distplot(df_converted['Cholesterol_stoch'], kde = False, color = 'red', ax = axes[0])\n",
    "axes[0].set(xlabel = 'Cholesterol' + \" / \" + 'Cholesterol_Stoch')\n",
    "    \n",
    "sns.boxplot(data = pd.concat([df_converted['Cholesterol'], df_converted['Cholesterol_stoch']], axis = 1),\n",
    "ax = axes[1])\n",
    "    \n",
    "plt.tight_layout()"
   ]
  },
  {
   "cell_type": "markdown",
   "id": "5f1a05fb",
   "metadata": {},
   "source": [
    "We can, now, drop Cholesterol and Cholesterol_imp columns because we don't need them anymore."
   ]
  },
  {
   "cell_type": "code",
   "execution_count": 35,
   "id": "85e438b1",
   "metadata": {},
   "outputs": [],
   "source": [
    "# Drop Cholesterol and Cholesterol_imp columns.\n",
    "\n",
    "df_converted_copy = df_converted\n",
    "df_converted.drop(['Cholesterol', 'Cholesterol_imp'], axis = 1, inplace=True)"
   ]
  },
  {
   "cell_type": "code",
   "execution_count": 36,
   "id": "5d942258",
   "metadata": {},
   "outputs": [
    {
     "data": {
      "text/html": [
       "<div>\n",
       "<style scoped>\n",
       "    .dataframe tbody tr th:only-of-type {\n",
       "        vertical-align: middle;\n",
       "    }\n",
       "\n",
       "    .dataframe tbody tr th {\n",
       "        vertical-align: top;\n",
       "    }\n",
       "\n",
       "    .dataframe thead th {\n",
       "        text-align: right;\n",
       "    }\n",
       "</style>\n",
       "<table border=\"1\" class=\"dataframe\">\n",
       "  <thead>\n",
       "    <tr style=\"text-align: right;\">\n",
       "      <th></th>\n",
       "      <th>Age</th>\n",
       "      <th>RestingBP</th>\n",
       "      <th>MaxHR</th>\n",
       "      <th>Oldpeak</th>\n",
       "      <th>HeartDisease</th>\n",
       "      <th>Sex_M</th>\n",
       "      <th>ChestPainType_ATA</th>\n",
       "      <th>ChestPainType_NAP</th>\n",
       "      <th>ChestPainType_TA</th>\n",
       "      <th>FastingBS_1</th>\n",
       "      <th>RestingECG_Normal</th>\n",
       "      <th>RestingECG_ST</th>\n",
       "      <th>ExerciseAngina_Y</th>\n",
       "      <th>ST_Slope_Flat</th>\n",
       "      <th>ST_Slope_Up</th>\n",
       "      <th>Cholesterol_stoch</th>\n",
       "    </tr>\n",
       "  </thead>\n",
       "  <tbody>\n",
       "    <tr>\n",
       "      <th>count</th>\n",
       "      <td>917.000000</td>\n",
       "      <td>917.000000</td>\n",
       "      <td>917.000000</td>\n",
       "      <td>917.000000</td>\n",
       "      <td>917.000000</td>\n",
       "      <td>917.000000</td>\n",
       "      <td>917.000000</td>\n",
       "      <td>917.000000</td>\n",
       "      <td>917.000000</td>\n",
       "      <td>917.000000</td>\n",
       "      <td>917.000000</td>\n",
       "      <td>917.000000</td>\n",
       "      <td>917.000000</td>\n",
       "      <td>917.000000</td>\n",
       "      <td>917.000000</td>\n",
       "      <td>917.000000</td>\n",
       "    </tr>\n",
       "    <tr>\n",
       "      <th>mean</th>\n",
       "      <td>53.509269</td>\n",
       "      <td>132.540894</td>\n",
       "      <td>136.789531</td>\n",
       "      <td>0.886696</td>\n",
       "      <td>0.552890</td>\n",
       "      <td>0.789531</td>\n",
       "      <td>0.188659</td>\n",
       "      <td>0.220284</td>\n",
       "      <td>0.050164</td>\n",
       "      <td>0.233370</td>\n",
       "      <td>0.600872</td>\n",
       "      <td>0.194111</td>\n",
       "      <td>0.404580</td>\n",
       "      <td>0.500545</td>\n",
       "      <td>0.430752</td>\n",
       "      <td>244.066383</td>\n",
       "    </tr>\n",
       "    <tr>\n",
       "      <th>std</th>\n",
       "      <td>9.437636</td>\n",
       "      <td>17.999749</td>\n",
       "      <td>25.467129</td>\n",
       "      <td>1.066960</td>\n",
       "      <td>0.497466</td>\n",
       "      <td>0.407864</td>\n",
       "      <td>0.391451</td>\n",
       "      <td>0.414664</td>\n",
       "      <td>0.218401</td>\n",
       "      <td>0.423206</td>\n",
       "      <td>0.489986</td>\n",
       "      <td>0.395731</td>\n",
       "      <td>0.491078</td>\n",
       "      <td>0.500273</td>\n",
       "      <td>0.495452</td>\n",
       "      <td>58.444792</td>\n",
       "    </tr>\n",
       "    <tr>\n",
       "      <th>min</th>\n",
       "      <td>28.000000</td>\n",
       "      <td>80.000000</td>\n",
       "      <td>60.000000</td>\n",
       "      <td>-2.600000</td>\n",
       "      <td>0.000000</td>\n",
       "      <td>0.000000</td>\n",
       "      <td>0.000000</td>\n",
       "      <td>0.000000</td>\n",
       "      <td>0.000000</td>\n",
       "      <td>0.000000</td>\n",
       "      <td>0.000000</td>\n",
       "      <td>0.000000</td>\n",
       "      <td>0.000000</td>\n",
       "      <td>0.000000</td>\n",
       "      <td>0.000000</td>\n",
       "      <td>76.660298</td>\n",
       "    </tr>\n",
       "    <tr>\n",
       "      <th>25%</th>\n",
       "      <td>47.000000</td>\n",
       "      <td>120.000000</td>\n",
       "      <td>120.000000</td>\n",
       "      <td>0.000000</td>\n",
       "      <td>0.000000</td>\n",
       "      <td>1.000000</td>\n",
       "      <td>0.000000</td>\n",
       "      <td>0.000000</td>\n",
       "      <td>0.000000</td>\n",
       "      <td>0.000000</td>\n",
       "      <td>0.000000</td>\n",
       "      <td>0.000000</td>\n",
       "      <td>0.000000</td>\n",
       "      <td>0.000000</td>\n",
       "      <td>0.000000</td>\n",
       "      <td>207.000000</td>\n",
       "    </tr>\n",
       "    <tr>\n",
       "      <th>50%</th>\n",
       "      <td>54.000000</td>\n",
       "      <td>130.000000</td>\n",
       "      <td>138.000000</td>\n",
       "      <td>0.600000</td>\n",
       "      <td>1.000000</td>\n",
       "      <td>1.000000</td>\n",
       "      <td>0.000000</td>\n",
       "      <td>0.000000</td>\n",
       "      <td>0.000000</td>\n",
       "      <td>0.000000</td>\n",
       "      <td>1.000000</td>\n",
       "      <td>0.000000</td>\n",
       "      <td>0.000000</td>\n",
       "      <td>1.000000</td>\n",
       "      <td>0.000000</td>\n",
       "      <td>238.000000</td>\n",
       "    </tr>\n",
       "    <tr>\n",
       "      <th>75%</th>\n",
       "      <td>60.000000</td>\n",
       "      <td>140.000000</td>\n",
       "      <td>156.000000</td>\n",
       "      <td>1.500000</td>\n",
       "      <td>1.000000</td>\n",
       "      <td>1.000000</td>\n",
       "      <td>0.000000</td>\n",
       "      <td>0.000000</td>\n",
       "      <td>0.000000</td>\n",
       "      <td>0.000000</td>\n",
       "      <td>1.000000</td>\n",
       "      <td>0.000000</td>\n",
       "      <td>1.000000</td>\n",
       "      <td>1.000000</td>\n",
       "      <td>1.000000</td>\n",
       "      <td>275.045448</td>\n",
       "    </tr>\n",
       "    <tr>\n",
       "      <th>max</th>\n",
       "      <td>77.000000</td>\n",
       "      <td>200.000000</td>\n",
       "      <td>202.000000</td>\n",
       "      <td>6.200000</td>\n",
       "      <td>1.000000</td>\n",
       "      <td>1.000000</td>\n",
       "      <td>1.000000</td>\n",
       "      <td>1.000000</td>\n",
       "      <td>1.000000</td>\n",
       "      <td>1.000000</td>\n",
       "      <td>1.000000</td>\n",
       "      <td>1.000000</td>\n",
       "      <td>1.000000</td>\n",
       "      <td>1.000000</td>\n",
       "      <td>1.000000</td>\n",
       "      <td>603.000000</td>\n",
       "    </tr>\n",
       "  </tbody>\n",
       "</table>\n",
       "</div>"
      ],
      "text/plain": [
       "              Age   RestingBP       MaxHR     Oldpeak  HeartDisease  \\\n",
       "count  917.000000  917.000000  917.000000  917.000000    917.000000   \n",
       "mean    53.509269  132.540894  136.789531    0.886696      0.552890   \n",
       "std      9.437636   17.999749   25.467129    1.066960      0.497466   \n",
       "min     28.000000   80.000000   60.000000   -2.600000      0.000000   \n",
       "25%     47.000000  120.000000  120.000000    0.000000      0.000000   \n",
       "50%     54.000000  130.000000  138.000000    0.600000      1.000000   \n",
       "75%     60.000000  140.000000  156.000000    1.500000      1.000000   \n",
       "max     77.000000  200.000000  202.000000    6.200000      1.000000   \n",
       "\n",
       "            Sex_M  ChestPainType_ATA  ChestPainType_NAP  ChestPainType_TA  \\\n",
       "count  917.000000         917.000000         917.000000        917.000000   \n",
       "mean     0.789531           0.188659           0.220284          0.050164   \n",
       "std      0.407864           0.391451           0.414664          0.218401   \n",
       "min      0.000000           0.000000           0.000000          0.000000   \n",
       "25%      1.000000           0.000000           0.000000          0.000000   \n",
       "50%      1.000000           0.000000           0.000000          0.000000   \n",
       "75%      1.000000           0.000000           0.000000          0.000000   \n",
       "max      1.000000           1.000000           1.000000          1.000000   \n",
       "\n",
       "       FastingBS_1  RestingECG_Normal  RestingECG_ST  ExerciseAngina_Y  \\\n",
       "count   917.000000         917.000000     917.000000        917.000000   \n",
       "mean      0.233370           0.600872       0.194111          0.404580   \n",
       "std       0.423206           0.489986       0.395731          0.491078   \n",
       "min       0.000000           0.000000       0.000000          0.000000   \n",
       "25%       0.000000           0.000000       0.000000          0.000000   \n",
       "50%       0.000000           1.000000       0.000000          0.000000   \n",
       "75%       0.000000           1.000000       0.000000          1.000000   \n",
       "max       1.000000           1.000000       1.000000          1.000000   \n",
       "\n",
       "       ST_Slope_Flat  ST_Slope_Up  Cholesterol_stoch  \n",
       "count     917.000000   917.000000         917.000000  \n",
       "mean        0.500545     0.430752         244.066383  \n",
       "std         0.500273     0.495452          58.444792  \n",
       "min         0.000000     0.000000          76.660298  \n",
       "25%         0.000000     0.000000         207.000000  \n",
       "50%         1.000000     0.000000         238.000000  \n",
       "75%         1.000000     1.000000         275.045448  \n",
       "max         1.000000     1.000000         603.000000  "
      ]
     },
     "execution_count": 36,
     "metadata": {},
     "output_type": "execute_result"
    }
   ],
   "source": [
    "# Take a final look at the descriptive statistics of the dataset.\n",
    "\n",
    "df_converted.describe()"
   ]
  },
  {
   "cell_type": "markdown",
   "id": "1211704c",
   "metadata": {},
   "source": [
    "I know there are outliers in this dataset, but there are only a few. So, I'll ignore them for now."
   ]
  },
  {
   "cell_type": "markdown",
   "id": "3cd67f0f",
   "metadata": {},
   "source": [
    "To summarize the actions we took in this part, we created a subset of the data with zero cholesterol values. The pivot table for missing cholesterol values suggested the majority of the subjects had heart disease. We decided to impute zero values instead of removing them from the dataset. Instead of replacing all values with a single value, we used **stochastic regression imputation**. Because replacing missing values with a single value introduce a bias to the dataset which reduces the accuracy of the model. On the other hand, stochastic regression imputation help us preserve the original distribution of the given feature as much as we can. We could also use the **regression imputation**. However, the regression imputation is deterministic. It means the predictions lie on the regression line. Therefore, the regression imputation also introduce some bias to the model compared to the stochastic regression imputation. With these changes, the average cholesterol for subjects with and without heart disease have changed:"
   ]
  },
  {
   "cell_type": "code",
   "execution_count": 37,
   "id": "c247750c",
   "metadata": {},
   "outputs": [
    {
     "name": "stdout",
     "output_type": "stream",
     "text": [
      "The Average Cholesterol of Healthy Subjects: 239.20974473280617\n",
      "The Average Cholesterol of Unhealthy Subjects: 247.99384183679328\n"
     ]
    }
   ],
   "source": [
    "print('The Average Cholesterol of Healthy Subjects:',df_converted.Cholesterol_stoch[df['HeartDisease'] == 0].mean())\n",
    "print('The Average Cholesterol of Unhealthy Subjects:',df_converted.Cholesterol_stoch[df['HeartDisease'] == 1].mean())"
   ]
  },
  {
   "cell_type": "markdown",
   "id": "161d8677",
   "metadata": {},
   "source": [
    "### Scale the data\n",
    "\n",
    "The numeric features are all non-normally distributed according to the Shapiro-Wilk test. However, only 'Cholesterol' and 'Oldpeak' are significantly skewed. Excluding outliers can reduce skewness but can also reduce accuracy of the model since we will be removing data by removing outliers. Considering the extremely skewed data, I'll, first, try a 'Min-Max Scaling' on the data. We can, then, compare results with models trained with a standardized dataset."
   ]
  },
  {
   "cell_type": "code",
   "execution_count": 41,
   "id": "a1416aac",
   "metadata": {},
   "outputs": [
    {
     "name": "stdout",
     "output_type": "stream",
     "text": [
      "Skewness of the Cholesterol distribution: 1.065515049415044\n",
      "Skewness of the Oldpeak distribution: 1.024544634289045\n"
     ]
    }
   ],
   "source": [
    "print('Skewness of the Cholesterol distribution:',df_converted.Cholesterol_stoch.skew())\n",
    "print('Skewness of the Oldpeak distribution:',df_converted.Oldpeak.skew())"
   ]
  },
  {
   "cell_type": "code",
   "execution_count": 42,
   "id": "7256e28c",
   "metadata": {},
   "outputs": [],
   "source": [
    "# Separate features set and the target set.\n",
    "\n",
    "X = df_converted.drop('HeartDisease', axis=1)\n",
    "y = df_converted.HeartDisease"
   ]
  },
  {
   "cell_type": "code",
   "execution_count": 44,
   "id": "5f616e28",
   "metadata": {},
   "outputs": [
    {
     "data": {
      "text/html": [
       "<div>\n",
       "<style scoped>\n",
       "    .dataframe tbody tr th:only-of-type {\n",
       "        vertical-align: middle;\n",
       "    }\n",
       "\n",
       "    .dataframe tbody tr th {\n",
       "        vertical-align: top;\n",
       "    }\n",
       "\n",
       "    .dataframe thead th {\n",
       "        text-align: right;\n",
       "    }\n",
       "</style>\n",
       "<table border=\"1\" class=\"dataframe\">\n",
       "  <thead>\n",
       "    <tr style=\"text-align: right;\">\n",
       "      <th></th>\n",
       "      <th>Age</th>\n",
       "      <th>RestingBP</th>\n",
       "      <th>MaxHR</th>\n",
       "      <th>Oldpeak</th>\n",
       "      <th>Sex_M</th>\n",
       "      <th>ChestPainType_ATA</th>\n",
       "      <th>ChestPainType_NAP</th>\n",
       "      <th>ChestPainType_TA</th>\n",
       "      <th>FastingBS_1</th>\n",
       "      <th>RestingECG_Normal</th>\n",
       "      <th>RestingECG_ST</th>\n",
       "      <th>ExerciseAngina_Y</th>\n",
       "      <th>ST_Slope_Flat</th>\n",
       "      <th>ST_Slope_Up</th>\n",
       "      <th>Cholesterol_stoch</th>\n",
       "    </tr>\n",
       "  </thead>\n",
       "  <tbody>\n",
       "    <tr>\n",
       "      <th>0</th>\n",
       "      <td>40</td>\n",
       "      <td>140.0</td>\n",
       "      <td>172</td>\n",
       "      <td>0.0</td>\n",
       "      <td>1</td>\n",
       "      <td>1</td>\n",
       "      <td>0</td>\n",
       "      <td>0</td>\n",
       "      <td>0</td>\n",
       "      <td>1</td>\n",
       "      <td>0</td>\n",
       "      <td>0</td>\n",
       "      <td>0</td>\n",
       "      <td>1</td>\n",
       "      <td>289.0</td>\n",
       "    </tr>\n",
       "    <tr>\n",
       "      <th>1</th>\n",
       "      <td>49</td>\n",
       "      <td>160.0</td>\n",
       "      <td>156</td>\n",
       "      <td>1.0</td>\n",
       "      <td>0</td>\n",
       "      <td>0</td>\n",
       "      <td>1</td>\n",
       "      <td>0</td>\n",
       "      <td>0</td>\n",
       "      <td>1</td>\n",
       "      <td>0</td>\n",
       "      <td>0</td>\n",
       "      <td>1</td>\n",
       "      <td>0</td>\n",
       "      <td>180.0</td>\n",
       "    </tr>\n",
       "    <tr>\n",
       "      <th>2</th>\n",
       "      <td>37</td>\n",
       "      <td>130.0</td>\n",
       "      <td>98</td>\n",
       "      <td>0.0</td>\n",
       "      <td>1</td>\n",
       "      <td>1</td>\n",
       "      <td>0</td>\n",
       "      <td>0</td>\n",
       "      <td>0</td>\n",
       "      <td>0</td>\n",
       "      <td>1</td>\n",
       "      <td>0</td>\n",
       "      <td>0</td>\n",
       "      <td>1</td>\n",
       "      <td>283.0</td>\n",
       "    </tr>\n",
       "    <tr>\n",
       "      <th>3</th>\n",
       "      <td>48</td>\n",
       "      <td>138.0</td>\n",
       "      <td>108</td>\n",
       "      <td>1.5</td>\n",
       "      <td>0</td>\n",
       "      <td>0</td>\n",
       "      <td>0</td>\n",
       "      <td>0</td>\n",
       "      <td>0</td>\n",
       "      <td>1</td>\n",
       "      <td>0</td>\n",
       "      <td>1</td>\n",
       "      <td>1</td>\n",
       "      <td>0</td>\n",
       "      <td>214.0</td>\n",
       "    </tr>\n",
       "    <tr>\n",
       "      <th>4</th>\n",
       "      <td>54</td>\n",
       "      <td>150.0</td>\n",
       "      <td>122</td>\n",
       "      <td>0.0</td>\n",
       "      <td>1</td>\n",
       "      <td>0</td>\n",
       "      <td>1</td>\n",
       "      <td>0</td>\n",
       "      <td>0</td>\n",
       "      <td>1</td>\n",
       "      <td>0</td>\n",
       "      <td>0</td>\n",
       "      <td>0</td>\n",
       "      <td>1</td>\n",
       "      <td>195.0</td>\n",
       "    </tr>\n",
       "  </tbody>\n",
       "</table>\n",
       "</div>"
      ],
      "text/plain": [
       "   Age  RestingBP  MaxHR  Oldpeak  Sex_M  ChestPainType_ATA  \\\n",
       "0   40      140.0    172      0.0      1                  1   \n",
       "1   49      160.0    156      1.0      0                  0   \n",
       "2   37      130.0     98      0.0      1                  1   \n",
       "3   48      138.0    108      1.5      0                  0   \n",
       "4   54      150.0    122      0.0      1                  0   \n",
       "\n",
       "   ChestPainType_NAP  ChestPainType_TA  FastingBS_1  RestingECG_Normal  \\\n",
       "0                  0                 0            0                  1   \n",
       "1                  1                 0            0                  1   \n",
       "2                  0                 0            0                  0   \n",
       "3                  0                 0            0                  1   \n",
       "4                  1                 0            0                  1   \n",
       "\n",
       "   RestingECG_ST  ExerciseAngina_Y  ST_Slope_Flat  ST_Slope_Up  \\\n",
       "0              0                 0              0            1   \n",
       "1              0                 0              1            0   \n",
       "2              1                 0              0            1   \n",
       "3              0                 1              1            0   \n",
       "4              0                 0              0            1   \n",
       "\n",
       "   Cholesterol_stoch  \n",
       "0              289.0  \n",
       "1              180.0  \n",
       "2              283.0  \n",
       "3              214.0  \n",
       "4              195.0  "
      ]
     },
     "execution_count": 44,
     "metadata": {},
     "output_type": "execute_result"
    }
   ],
   "source": [
    "X.head()"
   ]
  },
  {
   "cell_type": "code",
   "execution_count": 105,
   "id": "0e0ff5dd",
   "metadata": {},
   "outputs": [],
   "source": [
    "from sklearn.preprocessing import MinMaxScaler\n",
    "scaler = MinMaxScaler()\n",
    "X_scaled = scaler.fit_transform(X)"
   ]
  },
  {
   "cell_type": "markdown",
   "id": "8000ea86",
   "metadata": {},
   "source": [
    "## Part 6. Model Building"
   ]
  },
  {
   "cell_type": "code",
   "execution_count": 106,
   "id": "2c4351f8",
   "metadata": {},
   "outputs": [],
   "source": [
    "# import packages to be used for model building\n",
    "\n",
    "from sklearn.model_selection import cross_val_score\n",
    "from sklearn.naive_bayes import GaussianNB\n",
    "from sklearn.linear_model import LogisticRegression\n",
    "from sklearn import tree\n",
    "from sklearn.neighbors import KNeighborsClassifier\n",
    "from sklearn.ensemble import RandomForestClassifier\n",
    "from sklearn.ensemble import AdaBoostClassifier\n",
    "from sklearn.svm import SVC"
   ]
  },
  {
   "cell_type": "code",
   "execution_count": 107,
   "id": "2a5ec9e0",
   "metadata": {},
   "outputs": [
    {
     "name": "stdout",
     "output_type": "stream",
     "text": [
      "Cross validation score for the Gaussian Naive Bayes Classifier is 0.8471094123268037\n"
     ]
    }
   ],
   "source": [
    "# Use Naive Bayes as a baseline\n",
    "\n",
    "gnb = GaussianNB()\n",
    "cv = cross_val_score(gnb,X_scaled,y,cv=10)\n",
    "# print(cv)\n",
    "print('Cross validation score for the Gaussian Naive Bayes Classifier is {0}'.format(cv.mean()))"
   ]
  },
  {
   "cell_type": "code",
   "execution_count": 108,
   "id": "240a2c22",
   "metadata": {},
   "outputs": [
    {
     "name": "stdout",
     "output_type": "stream",
     "text": [
      "Cross validation score for the Logistic Regression Classifier is 0.8438724319159101\n"
     ]
    }
   ],
   "source": [
    "lr = LogisticRegression(max_iter = 2000)\n",
    "cv = cross_val_score(lr,X_scaled,y,cv=10)\n",
    "# print(cv)\n",
    "print('Cross validation score for the Logistic Regression Classifier is {0}'.format(cv.mean()))"
   ]
  },
  {
   "cell_type": "code",
   "execution_count": 109,
   "id": "c193ef87",
   "metadata": {},
   "outputs": [
    {
     "name": "stdout",
     "output_type": "stream",
     "text": [
      "Cross validation score for the Decision Tree Classifier is 0.7620162446249402\n"
     ]
    }
   ],
   "source": [
    "dt = tree.DecisionTreeClassifier(random_state = 1)\n",
    "cv = cross_val_score(dt,X_scaled,y,cv=10)\n",
    "# print(cv)\n",
    "print('Cross validation score for the Decision Tree Classifier is {0}'.format(cv.mean()))"
   ]
  },
  {
   "cell_type": "code",
   "execution_count": 110,
   "id": "31944017",
   "metadata": {},
   "outputs": [
    {
     "name": "stdout",
     "output_type": "stream",
     "text": [
      "Cross validation score for the K-Nearest Neighbors Classifier is 0.8405996177735309\n"
     ]
    }
   ],
   "source": [
    "knn = KNeighborsClassifier()\n",
    "cv = cross_val_score(knn,X_scaled,y,cv=10)\n",
    "# print(cv)\n",
    "print('Cross validation score for the K-Nearest Neighbors Classifier is {0}'.format(cv.mean()))"
   ]
  },
  {
   "cell_type": "code",
   "execution_count": 111,
   "id": "046b6fa5",
   "metadata": {},
   "outputs": [
    {
     "name": "stdout",
     "output_type": "stream",
     "text": [
      "Cross validation score for the Random Forest Classifier is 0.84162685140946\n"
     ]
    }
   ],
   "source": [
    "rf = RandomForestClassifier(random_state = 1)\n",
    "cv = cross_val_score(rf,X_scaled,y,cv=10)\n",
    "# print(cv)\n",
    "print('Cross validation score for the Random Forest Classifier is {0}'.format(cv.mean()))"
   ]
  },
  {
   "cell_type": "code",
   "execution_count": 112,
   "id": "157b369c",
   "metadata": {},
   "outputs": [
    {
     "name": "stdout",
     "output_type": "stream",
     "text": [
      "Cross validation score for the Support Vector Classifier is 0.8339823220258002\n"
     ]
    }
   ],
   "source": [
    "svc = SVC(probability = True)\n",
    "cv = cross_val_score(svc,X_scaled,y,cv=10)\n",
    "# print(cv)\n",
    "print('Cross validation score for the Support Vector Classifier is {0}'.format(cv.mean()))"
   ]
  },
  {
   "cell_type": "code",
   "execution_count": 113,
   "id": "39c6a568",
   "metadata": {},
   "outputs": [
    {
     "name": "stdout",
     "output_type": "stream",
     "text": [
      "Cross validation score for the Adaboost Classifier is 0.832990922121357\n"
     ]
    }
   ],
   "source": [
    "abc = AdaBoostClassifier()\n",
    "cv = cross_val_score(abc,X_scaled,y,cv=10)\n",
    "# print(cv)\n",
    "print('Cross validation score for the Adaboost Classifier is {0}'.format(cv.mean()))"
   ]
  },
  {
   "cell_type": "markdown",
   "id": "36cbfe63",
   "metadata": {},
   "source": [
    "### With Standard Scaler"
   ]
  },
  {
   "cell_type": "code",
   "execution_count": 114,
   "id": "8dbf2437",
   "metadata": {},
   "outputs": [],
   "source": [
    "from sklearn.preprocessing import StandardScaler\n",
    "scaler = StandardScaler()\n",
    "X_scaled = scaler.fit_transform(X)"
   ]
  },
  {
   "cell_type": "code",
   "execution_count": 115,
   "id": "d10a5454",
   "metadata": {},
   "outputs": [
    {
     "name": "stdout",
     "output_type": "stream",
     "text": [
      "Cross validation score for the Gaussian Naive Bayes Classifier is 0.8471094123268037\n"
     ]
    }
   ],
   "source": [
    "# Use Naive Bayes as a baseline\n",
    "gnb = GaussianNB()\n",
    "cv = cross_val_score(gnb,X_scaled,y,cv=10)\n",
    "# print(cv)\n",
    "print('Cross validation score for the Gaussian Naive Bayes Classifier is {0}'.format(cv.mean()))"
   ]
  },
  {
   "cell_type": "code",
   "execution_count": 116,
   "id": "4df188f4",
   "metadata": {},
   "outputs": [
    {
     "name": "stdout",
     "output_type": "stream",
     "text": [
      "Cross validation score for the Logistic Regression Classifier is 0.8427615862398472\n"
     ]
    }
   ],
   "source": [
    "lr = LogisticRegression(max_iter = 2000)\n",
    "cv = cross_val_score(lr,X_scaled,y,cv=10)\n",
    "# print(cv)\n",
    "print('Cross validation score for the Logistic Regression Classifier is {0}'.format(cv.mean()))"
   ]
  },
  {
   "cell_type": "code",
   "execution_count": 118,
   "id": "6e99daeb",
   "metadata": {},
   "outputs": [
    {
     "name": "stdout",
     "output_type": "stream",
     "text": [
      "Cross validation score for the Decision Tree Classifier is 0.7554586717630196\n"
     ]
    }
   ],
   "source": [
    "dt = tree.DecisionTreeClassifier(random_state = 1)\n",
    "cv = cross_val_score(dt,X_scaled,y,cv=10)\n",
    "# print(cv)\n",
    "print('Cross validation score for the Decision Tree Classifier is {0}'.format(cv.mean()))"
   ]
  },
  {
   "cell_type": "code",
   "execution_count": 119,
   "id": "7445aad8",
   "metadata": {},
   "outputs": [
    {
     "name": "stdout",
     "output_type": "stream",
     "text": [
      "Cross validation score for the K-Nearest Neighbors Classifier is 0.8548375537505972\n"
     ]
    }
   ],
   "source": [
    "knn = KNeighborsClassifier()\n",
    "cv = cross_val_score(knn,X_scaled,y,cv=10)\n",
    "# print(cv)\n",
    "print('Cross validation score for the K-Nearest Neighbors Classifier is {0}'.format(cv.mean()))"
   ]
  },
  {
   "cell_type": "code",
   "execution_count": 120,
   "id": "6ef456b6",
   "metadata": {},
   "outputs": [
    {
     "name": "stdout",
     "output_type": "stream",
     "text": [
      "Cross validation score for the Random Forest Classifier is 0.840539894887721\n"
     ]
    }
   ],
   "source": [
    "rf = RandomForestClassifier(random_state = 1)\n",
    "cv = cross_val_score(rf,X_scaled,y,cv=10)\n",
    "# print(cv)\n",
    "print('Cross validation score for the Random Forest Classifier is {0}'.format(cv.mean()))"
   ]
  },
  {
   "cell_type": "code",
   "execution_count": 121,
   "id": "cb039d96",
   "metadata": {},
   "outputs": [
    {
     "name": "stdout",
     "output_type": "stream",
     "text": [
      "Cross validation score for the Support Vector Classifier is 0.8449354992833253\n"
     ]
    }
   ],
   "source": [
    "svc = SVC(probability = True)\n",
    "cv = cross_val_score(svc,X_scaled,y,cv=10)\n",
    "# print(cv)\n",
    "print('Cross validation score for the Support Vector Classifier is {0}'.format(cv.mean()))"
   ]
  },
  {
   "cell_type": "code",
   "execution_count": 122,
   "id": "91301634",
   "metadata": {},
   "outputs": [
    {
     "name": "stdout",
     "output_type": "stream",
     "text": [
      "Cross validation score for the Adaboost Classifier is 0.832990922121357\n"
     ]
    }
   ],
   "source": [
    "abc = AdaBoostClassifier(random_state=1)\n",
    "cv = cross_val_score(abc,X_scaled,y,cv=10)\n",
    "# print(cv)\n",
    "print('Cross validation score for the Adaboost Classifier is {0}'.format(cv.mean()))"
   ]
  },
  {
   "cell_type": "markdown",
   "id": "46525f22",
   "metadata": {},
   "source": [
    "### Model Tuned Performance with Standardized Dataset"
   ]
  },
  {
   "cell_type": "code",
   "execution_count": 124,
   "id": "29a32e9b",
   "metadata": {},
   "outputs": [],
   "source": [
    "# Load packages for optimization\n",
    "\n",
    "from sklearn.model_selection import GridSearchCV \n",
    "from sklearn.model_selection import RandomizedSearchCV "
   ]
  },
  {
   "cell_type": "code",
   "execution_count": 125,
   "id": "2b12c8f3",
   "metadata": {},
   "outputs": [],
   "source": [
    "# Simple performance reporting function\n",
    "\n",
    "def clf_performance(classifier, model_name):\n",
    "    print(model_name)\n",
    "    print('Best Score: ' + str(classifier.best_score_))\n",
    "    print('Best Parameters: ' + str(classifier.best_params_))"
   ]
  },
  {
   "cell_type": "code",
   "execution_count": 126,
   "id": "529b78eb",
   "metadata": {},
   "outputs": [
    {
     "name": "stdout",
     "output_type": "stream",
     "text": [
      "Fitting 10 folds for each of 40 candidates, totalling 400 fits\n",
      "Logistic Regression\n",
      "Best Score: 0.8493191591017679\n",
      "Best Parameters: {'C': 0.012742749857031334, 'max_iter': 2000, 'penalty': 'l2', 'solver': 'liblinear'}\n"
     ]
    }
   ],
   "source": [
    "# Optimize logistic regression classifier\n",
    "\n",
    "lr = LogisticRegression()\n",
    "param_grid = {'max_iter' : [2000],\n",
    "              'penalty' : ['l1', 'l2'],\n",
    "              'C' : np.logspace(-4, 4, 20),\n",
    "              'solver' : ['liblinear']}\n",
    "\n",
    "clf_lr = GridSearchCV(lr, param_grid = param_grid, cv = 10, verbose = True, n_jobs = -1)\n",
    "best_clf_lr = clf_lr.fit(X_scaled,y)\n",
    "clf_performance(best_clf_lr,'Logistic Regression')"
   ]
  },
  {
   "cell_type": "code",
   "execution_count": 127,
   "id": "c2634197",
   "metadata": {},
   "outputs": [
    {
     "name": "stdout",
     "output_type": "stream",
     "text": [
      "Fitting 10 folds for each of 48 candidates, totalling 480 fits\n",
      "KNN\n",
      "Best Score: 0.8548375537505972\n",
      "Best Parameters: {'algorithm': 'auto', 'n_neighbors': 5, 'p': 2, 'weights': 'uniform'}\n"
     ]
    }
   ],
   "source": [
    "# Optimize K-nearest Neighbors Classifier\n",
    "\n",
    "knn = KNeighborsClassifier()\n",
    "param_grid = {'n_neighbors' : [3,5,7,9],\n",
    "              'weights' : ['uniform', 'distance'],\n",
    "              'algorithm' : ['auto', 'ball_tree','kd_tree'],\n",
    "              'p' : [1,2]}\n",
    "clf_knn = GridSearchCV(knn, param_grid = param_grid, cv = 10, verbose = True, n_jobs = -1)\n",
    "best_clf_knn = clf_knn.fit(X_scaled,y)\n",
    "clf_performance(best_clf_knn,'KNN')"
   ]
  },
  {
   "cell_type": "code",
   "execution_count": 128,
   "id": "ed692df6",
   "metadata": {},
   "outputs": [
    {
     "name": "stdout",
     "output_type": "stream",
     "text": [
      "Fitting 10 folds for each of 55 candidates, totalling 550 fits\n",
      "SVC\n",
      "Best Score: 0.8482680363115145\n",
      "Best Parameters: {'C': 1, 'degree': 3, 'kernel': 'poly'}\n"
     ]
    }
   ],
   "source": [
    "# Optimize Support Vector Classifier\n",
    "\n",
    "svc = SVC(probability = True)\n",
    "param_grid = tuned_parameters = [{'kernel': ['rbf'], 'gamma': [.1,.5,1,2,5,10],\n",
    "                                  'C': [.1, 1, 10, 100, 1000]},\n",
    "                                 {'kernel': ['linear'], 'C': [.1, 1, 10, 100, 1000]},\n",
    "                                 {'kernel': ['poly'], 'degree' : [2,3,4,5], 'C': [.1, 1, 10, 100, 1000]}]\n",
    "clf_svc = GridSearchCV(svc, param_grid = param_grid, cv = 10, verbose = True, n_jobs = -1)\n",
    "best_clf_svc = clf_svc.fit(X_scaled,y)\n",
    "clf_performance(best_clf_svc,'SVC')"
   ]
  },
  {
   "cell_type": "code",
   "execution_count": 129,
   "id": "136ad5c2",
   "metadata": {},
   "outputs": [
    {
     "name": "stdout",
     "output_type": "stream",
     "text": [
      "Fitting 10 folds for each of 288 candidates, totalling 2880 fits\n",
      "Random Forest\n",
      "Best Score: 0.850370281892021\n",
      "Best Parameters: {'bootstrap': True, 'criterion': 'gini', 'max_depth': 20, 'max_features': 'auto', 'min_samples_leaf': 2, 'min_samples_split': 2, 'n_estimators': 500}\n"
     ]
    }
   ],
   "source": [
    "# Optimize Random Forest Classifier\n",
    "\n",
    "rf = RandomForestClassifier(random_state = 1)\n",
    "param_grid =  {'n_estimators': [400,450,500,550],\n",
    "               'criterion':['gini','entropy'],\n",
    "                                  'bootstrap': [True],\n",
    "                                  'max_depth': [15, 20, 25],\n",
    "                                  'max_features': ['auto','sqrt', 10],\n",
    "                                  'min_samples_leaf': [2,3],\n",
    "                                  'min_samples_split': [2,3]}\n",
    "                                  \n",
    "clf_rf = GridSearchCV(rf, param_grid = param_grid, cv = 10, verbose = True, n_jobs = -1)\n",
    "best_clf_rf = clf_rf.fit(X_scaled,y)\n",
    "clf_performance(best_clf_rf,'Random Forest')"
   ]
  },
  {
   "cell_type": "code",
   "execution_count": 130,
   "id": "70172267",
   "metadata": {},
   "outputs": [
    {
     "name": "stdout",
     "output_type": "stream",
     "text": [
      "Fitting 10 folds for each of 32 candidates, totalling 320 fits\n",
      "AdaBoost\n",
      "Best Score: 0.8482083134257048\n",
      "Best Parameters: {'algorithm': 'SAMME.R', 'learning_rate': 0.1, 'n_estimators': 100}\n"
     ]
    }
   ],
   "source": [
    "# Optimize Adaboost Classifier\n",
    "\n",
    "abc = AdaBoostClassifier()\n",
    "param_grid =  {'n_estimators': [50,100,200,300],\n",
    "               'learning_rate':[0.01,0.1,0.5,1],\n",
    "                'algorithm': ['SAMME','SAMME.R']}\n",
    "clf_abc = GridSearchCV(abc, param_grid = param_grid, cv = 10, verbose = True, n_jobs = -1)\n",
    "best_clf_rf = clf_abc.fit(X_scaled,y)\n",
    "clf_performance(best_clf_rf,'AdaBoost')"
   ]
  },
  {
   "cell_type": "markdown",
   "id": "07f7e4d9",
   "metadata": {},
   "source": [
    "## Part 7. Conclusion\n",
    "\n"
   ]
  },
  {
   "cell_type": "markdown",
   "id": "524b70d2",
   "metadata": {},
   "source": [
    "In this notebook, I used kaggle api to search kaggle public datasets and chose the \"heart failure\" dataset to work on. I built several machine learning models to predict whether a subject has a heart failure or not based on various features, such as cholesterol, fasting blood pressure, age, sex, etc...\n",
    "\n",
    "I started with the exploratory analysis. In the exploratory analysis part, I look at whether there are missing data, the descriptive statistics of each feature, distribution of numeric features using histograms and pivot tables, and distribution of categorical variables using barplots and pivot tables. Although there were no 'missing values', cholesterol and resting blood pressure features had zeros which doesn't make sense in reality. So, I replaced zeros in these features with NaNs. Finally I removed the row with zero resting blood pressure because there were only one.\n",
    "\n",
    "I haven't done any feature engineering in this project because features were clean. In addition, this is a dataset involving medical features which are calibrated measurements and are already boiled down to mean something specific alone. \n",
    "\n",
    "In the data preprocessing part, I looked at the the subset of the data which had only the rows with zero cholesterol values. Interestingly, most of the patients in this subset had heart disease (around 80%). So, I decided that I should use a more sophisticated imputatuon method to introduce relatively less bias to the data. Therefore, I decided to use the **stochastic regression imputation**. To do that, I first replaced zeros in the cholesterol feature with random values from the existing values in each feature. Then, I built a regression model with noise to predict missing cholesterol values. \n",
    "\n",
    "In the model building part, I built several machine learning models using both normalized and standardized data. There wasn't a significant difference between the cross correlation scores of models built with normalized and standardized data. With that, K-Nearest Neighbor (KNN) classifier built using the stardardized data performed the best (cross validation score of 0.858). Then, I optimized all models except the baseline model (Gaussian Naive Bayes classifier) using the gridsearch technique. I was able to optimize some models slightly but there was no big performance improvements. After the optimization stage, KNN classifier still had the best cross-validation score (0.858). So, KNN classifier is the winner.\n",
    "\n",
    "In this project, two notebooks helped me to plan the project and write the code. I drop the links below if you want to check them out. \n",
    "\n",
    "Thanks for reading! Have fun building machine learning models!\n",
    "\n",
    "https://www.kaggle.com/kenjee/titanic-project-example\n",
    "https://www.kaggle.com/shashankasubrahmanya/missing-data-imputation-using-regression"
   ]
  },
  {
   "cell_type": "code",
   "execution_count": null,
   "id": "6681d424",
   "metadata": {},
   "outputs": [],
   "source": []
  }
 ],
 "metadata": {
  "kernelspec": {
   "display_name": "Python 3 (ipykernel)",
   "language": "python",
   "name": "python3"
  },
  "language_info": {
   "codemirror_mode": {
    "name": "ipython",
    "version": 3
   },
   "file_extension": ".py",
   "mimetype": "text/x-python",
   "name": "python",
   "nbconvert_exporter": "python",
   "pygments_lexer": "ipython3",
   "version": "3.8.5"
  },
  "widgets": {
   "application/vnd.jupyter.widget-state+json": {
    "state": {},
    "version_major": 2,
    "version_minor": 0
   }
  }
 },
 "nbformat": 4,
 "nbformat_minor": 5
}
