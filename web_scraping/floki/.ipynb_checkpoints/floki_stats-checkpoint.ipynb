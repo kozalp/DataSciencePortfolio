{
 "cells": [
  {
   "cell_type": "code",
   "execution_count": null,
   "id": "56be1fb8",
   "metadata": {},
   "outputs": [],
   "source": [
    "\"\"\"\n",
    "This script gets FLOKI INU price from Coingecko, \n",
    "and FLOKI INU hodler numbers from etherscan and\n",
    "bscscan.\n",
    "\"\"\""
   ]
  },
  {
   "cell_type": "code",
   "execution_count": 1,
   "id": "ded19d11",
   "metadata": {},
   "outputs": [],
   "source": [
    "# Libraries\n",
    "\n",
    "from bs4 import BeautifulSoup as bs\n",
    "import requests"
   ]
  },
  {
   "cell_type": "code",
   "execution_count": 2,
   "id": "d07759f9",
   "metadata": {},
   "outputs": [],
   "source": [
    "# Links\n",
    "\n",
    "path_price = \"https://www.coingecko.com/en/coins/floki-inu\"\n",
    "path_eth = \"https://etherscan.io/token/0x43f11c02439e2736800433b4594994bd43cd066d\"\n",
    "path_bsc = \"https://bscscan.com/token/0x2b3f34e9d4b127797ce6244ea341a83733ddd6e4\""
   ]
  },
  {
   "cell_type": "code",
   "execution_count": 6,
   "id": "564c2b4c",
   "metadata": {},
   "outputs": [
    {
     "name": "stdout",
     "output_type": "stream",
     "text": [
      "$0.000221001541\n"
     ]
    }
   ],
   "source": [
    "# Get FLOKI INU in $USD from Coingecko\n",
    "\n",
    "price_source = requests.get(path_price).text\n",
    "soup = bs(price_source,'lxml')\n",
    "price = soup.find('span', class_ = 'no-wrap').text\n",
    "print(price)"
   ]
  },
  {
   "cell_type": "code",
   "execution_count": 40,
   "id": "143ae1b8",
   "metadata": {},
   "outputs": [
    {
     "data": {
      "text/plain": [
       "280219"
      ]
     },
     "execution_count": 40,
     "metadata": {},
     "output_type": "execute_result"
    }
   ],
   "source": [
    "# Get the number of wallets hodling FLOKI on Binance Smartchain\n",
    "# IMPORTANT: If you don't use a header when requesting the website, \n",
    "# you are going to get tagged as a bot and get 403 error.\n",
    "\n",
    "bsc_source = requests.get(path_bsc, headers = {'User-Agent': 'Mozilla/5.0'}).text\n",
    "soup = bs(bsc_source,'lxml')\n",
    "bsc_wallets = soup.find('div', class_ = 'mr-3').text\n",
    "bsc_wallets = int(bsc_wallets.replace('\\n','').replace(',','').split(\" \")[0])\n",
    "bsc_wallets"
   ]
  },
  {
   "cell_type": "code",
   "execution_count": 41,
   "id": "c78cdf70",
   "metadata": {},
   "outputs": [
    {
     "data": {
      "text/plain": [
       "47635"
      ]
     },
     "execution_count": 41,
     "metadata": {},
     "output_type": "execute_result"
    }
   ],
   "source": [
    "# Get the number of wallets hodling FLOKI on Ethereum Blockchain\n",
    "# IMPORTANT: If you don't use a header when requesting the website, \n",
    "# you are going to get tagged as a bot and get 403 error.\n",
    "\n",
    "eth_source = requests.get(path_eth, headers = {'User-Agent': 'Mozilla/5.0'}).text\n",
    "soup = bs(eth_source,'lxml')\n",
    "eth_wallets = soup.find('div', class_ = 'mr-3').text\n",
    "eth_wallets = int(eth_wallets.replace('\\n','').replace(',',''))\n",
    "eth_wallets"
   ]
  },
  {
   "cell_type": "code",
   "execution_count": null,
   "id": "3e2213fb",
   "metadata": {},
   "outputs": [],
   "source": []
  }
 ],
 "metadata": {
  "kernelspec": {
   "display_name": "Python 3 (ipykernel)",
   "language": "python",
   "name": "python3"
  },
  "language_info": {
   "codemirror_mode": {
    "name": "ipython",
    "version": 3
   },
   "file_extension": ".py",
   "mimetype": "text/x-python",
   "name": "python",
   "nbconvert_exporter": "python",
   "pygments_lexer": "ipython3",
   "version": "3.8.5"
  }
 },
 "nbformat": 4,
 "nbformat_minor": 5
}
