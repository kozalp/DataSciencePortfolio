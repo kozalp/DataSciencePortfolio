{
 "cells": [
  {
   "cell_type": "markdown",
   "id": "e81fc33b",
   "metadata": {},
   "source": [
    "# Bootstrapping to Estimate Population Parameters"
   ]
  },
  {
   "cell_type": "markdown",
   "id": "655dc88d",
   "metadata": {},
   "source": [
    "## 1. Background"
   ]
  },
  {
   "cell_type": "markdown",
   "id": "eaec2863",
   "metadata": {},
   "source": [
    "In my Ph.D. research, I performed laboratory experiments and collected the positional data of zooplankton. Although I had a fairly large sample size, I still wanted to estimate the uncertainty of motion parameters, such as mean swimming velocity and mean turning angle. To do that, I used bootstrapping method.\n",
    "\n",
    "In essence, bootstrapping creates as many samples as need from the original dataset you have. How does it do that? Let's explain with Bingo!\n",
    "\n",
    "When you play bingo, you start with a bag of numbers from 1-60, 1-75, or 1-100. Suppose we have a bag of numbers from 1-100. In Bingo, you pick a number from the bag, announce the number, and put it aside. Bootstrapping is almost like pulling numbers from a bag as in Bingo except that you put the number you pulled back into the bag. Why? Because we want our sampling method to be completely random. When you pull a number from the bag and put it aside, you cannot pull the same number again. Let's say the probability of pulling 1 out of numbers from 1-100, is 0.01 at the first pull. You pulled 20 and put it aside. If you don't put 20 back into the bag, the probability of picking 1 from the bag is 1/99 in your second try. So, by NOT putting the number you picked in the last round, you actually increase the chance of picking 1 from the bag at each round. In bootstrapping we replace the value picked back into the dataset for sampling event to be completely random.\n",
    "\n",
    "Enough talking! Let's use a sample dataset from my experiments and estimate the confidence interval for mean velocity of the population. I'll use a sample dataset that I used previously for checking normality of the distribution. The sample dataset has a column dv_(mm/s) which is the instantaneous velocity for just one plankton. Since my research hasn't published yet, I cannot share the dataset consisting of hundreds of plankton yet. So, I'll treat dv_(mm/s) as it is the mean swimming velocity and each row of the dataset as it belongs to a different plankton.\n",
    "\n",
    "I used this medium article as a source: https://towardsdatascience.com/bootstrap-and-statistical-inference-in-python-a06d098a8bfd"
   ]
  },
  {
   "cell_type": "markdown",
   "id": "44f98045",
   "metadata": {},
   "source": [
    "## 2. Mean of The Sample Dataset"
   ]
  },
  {
   "cell_type": "code",
   "execution_count": 40,
   "id": "5da5d7aa",
   "metadata": {},
   "outputs": [],
   "source": [
    "# START BY IMPORTING LIBRARIES\n",
    "\n",
    "import pandas as pd\n",
    "import numpy as np\n",
    "import matplotlib.pyplot as plt"
   ]
  },
  {
   "cell_type": "code",
   "execution_count": 41,
   "id": "fbd1aad3",
   "metadata": {},
   "outputs": [
    {
     "data": {
      "text/plain": [
       "1    5.549480\n",
       "2    5.578956\n",
       "3    3.393997\n",
       "4    7.163161\n",
       "5    4.713483\n",
       "Name: dv_(mm/s), dtype: float64"
      ]
     },
     "execution_count": 41,
     "metadata": {},
     "output_type": "execute_result"
    }
   ],
   "source": [
    "# LOAD THE SAMPLE DATA and SELECT THE VELOCITY VALUES ONLY\n",
    "# I WILL EXCLUDE THE FIRST ROW. JUST DO IT. BELIEVE ME IT IS A LONG STORY.\n",
    "# JUST KNOW THAT I'M NOT EXCLUDING IT BECAUSE IT IS ZERO BUT BECAUSE IT DOESN'T REFLECT THE REALITY.\n",
    "\n",
    "df = pd.read_csv('sample.csv',index_col=0)\n",
    "mean_vel = df['dv_(mm/s)'].iloc[1:]\n",
    "mean_vel.head()"
   ]
  },
  {
   "cell_type": "code",
   "execution_count": 52,
   "id": "9826e153",
   "metadata": {},
   "outputs": [
    {
     "name": "stdout",
     "output_type": "stream",
     "text": [
      "Mean Velocity= 3.978349894386735\n",
      "Standard Deviation= 2.6292085811604573\n"
     ]
    }
   ],
   "source": [
    "# CALCULATE MEAN SWIMMING VELOCITY FOR THE SAMPLE. \n",
    "# REMEMBER WE ASSUME THAT EACH LINE BELONGS TO A DIFFERENT PLANKTON.\n",
    "\n",
    "print('Mean Velocity=',mean_vel.mean())\n",
    "print('Standard Deviation=',mean_vel.std())"
   ]
  },
  {
   "cell_type": "markdown",
   "id": "782f6c1a",
   "metadata": {},
   "source": [
    "## 3. Bootstrapping\n",
    "\n",
    "Below, we start by initializing a seed value for the random function. This way, we'll get the sample result if we perform the bootstrapping with the same seed value.\n",
    "\n",
    "We are going to create 10,000 bootstrapped dataset and each bootstrapped dataset will have the same size with the original dataset. At each round of the iteration, we will \n",
    "\n",
    "1. create a bootstrapped dataset at random,\n",
    "2. calculate its mean,\n",
    "3. append the mean to the bootstrapped_means list\n",
    "4. convert the list to a numpy array for calculating mean."
   ]
  },
  {
   "cell_type": "code",
   "execution_count": 43,
   "id": "a8d73658",
   "metadata": {},
   "outputs": [
    {
     "data": {
      "text/plain": [
       "array([3.82817714, 3.90827415, 4.12496131, ..., 4.05927293, 3.87438855,\n",
       "       3.95615312])"
      ]
     },
     "execution_count": 43,
     "metadata": {},
     "output_type": "execute_result"
    }
   ],
   "source": [
    "np.random.seed(0)\n",
    "bootstrapped_means = []\n",
    "\n",
    "for _ in range(10000):\n",
    "    boot_sample = np.random.choice(mean_vel, replace = True, size = len(mean_vel))\n",
    "    boot_mean = np.mean(boot_sample)\n",
    "    bootstrapped_means.append(boot_mean)\n",
    "\n",
    "bootstrapped_means_np = np.array(bootstrapped_means)\n",
    "bootstrapped_means_np"
   ]
  },
  {
   "cell_type": "markdown",
   "id": "300a2d25",
   "metadata": {},
   "source": [
    "## 4. Results\n",
    "\n",
    "Now, I'll calculate the bootstrapped sample mean, standard error, and 95% confidence interval of the mean. I'll also plot a histogram showing the distribution of the bootstrapped means."
   ]
  },
  {
   "cell_type": "code",
   "execution_count": 49,
   "id": "cbc6805e",
   "metadata": {},
   "outputs": [
    {
     "data": {
      "text/plain": [
       "3.9783558248823"
      ]
     },
     "execution_count": 49,
     "metadata": {},
     "output_type": "execute_result"
    }
   ],
   "source": [
    "bootstrapped_mean = np.mean(bootstrapped_means_np)\n",
    "bootstrapped_mean"
   ]
  },
  {
   "cell_type": "code",
   "execution_count": 50,
   "id": "e81dc12c",
   "metadata": {},
   "outputs": [
    {
     "data": {
      "text/plain": [
       "0.12319823551018606"
      ]
     },
     "execution_count": 50,
     "metadata": {},
     "output_type": "execute_result"
    }
   ],
   "source": [
    "bootstrapped_std = np.std(bootstrapped_means_np)\n",
    "bootstrapped_std"
   ]
  },
  {
   "cell_type": "code",
   "execution_count": 45,
   "id": "002f7b07",
   "metadata": {},
   "outputs": [
    {
     "data": {
      "text/plain": [
       "(3.736544485994521, 4.221528236696017)"
      ]
     },
     "execution_count": 45,
     "metadata": {},
     "output_type": "execute_result"
    }
   ],
   "source": [
    "a,b = np.percentile(bootstrapped_means_np, [2.5,97.5])\n",
    "a,b"
   ]
  },
  {
   "cell_type": "code",
   "execution_count": 46,
   "id": "e485b70a",
   "metadata": {},
   "outputs": [
    {
     "data": {
      "text/plain": [
       "<matplotlib.lines.Line2D at 0x7fb928fd04c0>"
      ]
     },
     "execution_count": 46,
     "metadata": {},
     "output_type": "execute_result"
    },
    {
     "data": {
      "image/png": "[encoded data removed]",
      "text/plain": [
       "<Figure size 432x288 with 1 Axes>"
      ]
     },
     "metadata": {
      "needs_background": "light"
     },
     "output_type": "display_data"
    }
   ],
   "source": [
    "plt.hist(bootstrapped_means_np)\n",
    "plt.axvline(a,color='red', linewidth=1)\n",
    "plt.axvline(b,color='red', linewidth=1)"
   ]
  },
  {
   "cell_type": "markdown",
   "id": "6e24f5ac",
   "metadata": {},
   "source": [
    "## 5. Conclusion\n",
    "\n",
    "Here, I started with a sample dataset of plankton and calculated the mean swimming speed for the sample which is $3.978349$. Then I created $10,000$ bootstrapped dataset and calculated bootstrapped mean and $95$% confidence interval. The bootstrapped mean for $10,000$ samples is $3.978355$ which is very close to the sample mean. The standard error for the bootstrapped mean is $0.123$. Finally, I calculated the $95$% confidence interval for the bootstrapped mean. So, 95% of the time, the true population mean lies between $3.74$ and $4.22$ mm/s."
   ]
  },
  {
   "cell_type": "code",
   "execution_count": null,
   "id": "c24e65e8",
   "metadata": {},
   "outputs": [],
   "source": []
  }
 ],
 "metadata": {
  "kernelspec": {
   "display_name": "Python 3 (ipykernel)",
   "language": "python",
   "name": "python3"
  },
  "language_info": {
   "codemirror_mode": {
    "name": "ipython",
    "version": 3
   },
   "file_extension": ".py",
   "mimetype": "text/x-python",
   "name": "python",
   "nbconvert_exporter": "python",
   "pygments_lexer": "ipython3",
   "version": "3.8.5"
  }
 },
 "nbformat": 4,
 "nbformat_minor": 5
}
