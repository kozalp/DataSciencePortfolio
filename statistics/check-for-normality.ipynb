{
 "cells": [
  {
   "cell_type": "markdown",
   "id": "5afbb516",
   "metadata": {},
   "source": [
    "Hello! In this notebook, I'll use a sample data from my Ph.D. study and check it for normality. I'll take the steps below in order:\n",
    "\n",
    "1. Perform a qualitative analysis first just by looking at the distribution.\n",
    "2. Calculate kurtosis and see how much it deviates from 0. \n",
    "3. Perform Kolmogorov-Smirnov (K-S) test. K-S test compares cumulative distribution function of the two distribtuons, calculates the difference between the two at each point, and finds the largest difference (D).\n",
    "4. Perform Shapiro-Wilk test. Shapiro-Wilk test is a more powerful test than the K-S test for normality check.\n",
    "\n",
    "I used this video as a reference for the code: https://www.youtube.com/watch?v=12qn03Ml87E\n",
    "I recommend the two links below for high-level comparison of Kolmogorov-Smirnov test and the Shapiro-Wilk test: https://stats.stackexchange.com/questions/362/what-is-the-difference-between-the-shapiro-wilk-test-of-normality-and-the-kolmog\n",
    "\n",
    "https://en.wikipedia.org/wiki/Shapiro–Wilk_test\n",
    "\n",
    "Before I move on to the analysis, I'll briefly give you some background about my research only to make you familiar with what is really going on here and when a normality check is necessary. If you are not interested, you can skip the next text block, but I recommend reading it. Because we need stories when we learn anything. Stories give you the context. They are like cements between bricks holding them together."
   ]
  },
  {
   "cell_type": "markdown",
   "id": "19363b3f",
   "metadata": {},
   "source": [
    "In my Ph.D. research, I have been studyng the relationship between the swimming patterns and development of plankton. I cultured zooplankton in my lab. They are about 0.4 mm when they are tiny babies. They pass from one life stage to another and there are 17 life stages for my species in total. I only studied the first two life stages in my research.\n",
    "\n",
    "I recoreded these tiny creatures swimming patterns by using two high speed cameras with very sensitive sensors. I placed cameras at 90 degrees to each other around a square aquarium. By starting the recording event at the same time on each camera, I recorded the movement of plankton in two different planes, namely x-y and x-z planes. Then, I used a code to match plankton in two different recordings and calculated 3D position of plankton at every video frame. Cool, huh?! Anyways, the sample data is for one plankton only. It has information for plankton's life stage, the food condition, session, plankton ID, x-y-z coordinates at each frame, ds (distance traveled between two consecutive frames), dv (instantaneous velocity), and angle.\n",
    "\n",
    "In order to compare the swimming patterns of plankton from two different life stages, I needed to run a statistical test on the average velocities of tracks. However, you have to know whether the average velocities distributed normally. If yes, I can use a parametric test to compare tracks. Otherwise, I have to go with a non-parametric test. So, here is an example of how I checked the experimental data for normality."
   ]
  },
  {
   "cell_type": "code",
   "execution_count": 2,
   "id": "c988d3bd",
   "metadata": {},
   "outputs": [],
   "source": [
    "# LOAD NECESSARY LIBRARIES\n",
    "\n",
    "import pandas as pd\n",
    "import matplotlib.pyplot as plt\n",
    "import numpy as np\n",
    "from scipy import stats  "
   ]
  },
  {
   "cell_type": "code",
   "execution_count": 4,
   "id": "5eaeb719",
   "metadata": {},
   "outputs": [
    {
     "data": {
      "text/html": [
       "<div>\n",
       "<style scoped>\n",
       "    .dataframe tbody tr th:only-of-type {\n",
       "        vertical-align: middle;\n",
       "    }\n",
       "\n",
       "    .dataframe tbody tr th {\n",
       "        vertical-align: top;\n",
       "    }\n",
       "\n",
       "    .dataframe thead th {\n",
       "        text-align: right;\n",
       "    }\n",
       "</style>\n",
       "<table border=\"1\" class=\"dataframe\">\n",
       "  <thead>\n",
       "    <tr style=\"text-align: right;\">\n",
       "      <th></th>\n",
       "      <th>life_stage</th>\n",
       "      <th>case</th>\n",
       "      <th>session</th>\n",
       "      <th>plankton</th>\n",
       "      <th>x_(mm)</th>\n",
       "      <th>y_(mm)</th>\n",
       "      <th>z_(mm)</th>\n",
       "      <th>ds_(mm)</th>\n",
       "      <th>dv_(mm/s)</th>\n",
       "      <th>angle_(deg)</th>\n",
       "    </tr>\n",
       "  </thead>\n",
       "  <tbody>\n",
       "    <tr>\n",
       "      <th>0</th>\n",
       "      <td>naupliar</td>\n",
       "      <td>withFood</td>\n",
       "      <td>trj_naupwF5_1</td>\n",
       "      <td>1</td>\n",
       "      <td>-14.0086</td>\n",
       "      <td>19.9080</td>\n",
       "      <td>19.6472</td>\n",
       "      <td>0.000000</td>\n",
       "      <td>0.000000</td>\n",
       "      <td>0.000000</td>\n",
       "    </tr>\n",
       "    <tr>\n",
       "      <th>1</th>\n",
       "      <td>naupliar</td>\n",
       "      <td>withFood</td>\n",
       "      <td>trj_naupwF5_1</td>\n",
       "      <td>1</td>\n",
       "      <td>-13.9013</td>\n",
       "      <td>19.9963</td>\n",
       "      <td>19.5251</td>\n",
       "      <td>0.184983</td>\n",
       "      <td>5.549480</td>\n",
       "      <td>13.649609</td>\n",
       "    </tr>\n",
       "    <tr>\n",
       "      <th>2</th>\n",
       "      <td>naupliar</td>\n",
       "      <td>withFood</td>\n",
       "      <td>trj_naupwF5_1</td>\n",
       "      <td>1</td>\n",
       "      <td>-13.8047</td>\n",
       "      <td>20.1206</td>\n",
       "      <td>19.4261</td>\n",
       "      <td>0.185965</td>\n",
       "      <td>5.578956</td>\n",
       "      <td>164.812455</td>\n",
       "    </tr>\n",
       "    <tr>\n",
       "      <th>3</th>\n",
       "      <td>naupliar</td>\n",
       "      <td>withFood</td>\n",
       "      <td>trj_naupwF5_1</td>\n",
       "      <td>1</td>\n",
       "      <td>-13.8525</td>\n",
       "      <td>20.0261</td>\n",
       "      <td>19.4659</td>\n",
       "      <td>0.113133</td>\n",
       "      <td>3.393997</td>\n",
       "      <td>156.256124</td>\n",
       "    </tr>\n",
       "    <tr>\n",
       "      <th>4</th>\n",
       "      <td>naupliar</td>\n",
       "      <td>withFood</td>\n",
       "      <td>trj_naupwF5_1</td>\n",
       "      <td>1</td>\n",
       "      <td>-13.6923</td>\n",
       "      <td>20.1561</td>\n",
       "      <td>19.3457</td>\n",
       "      <td>0.238772</td>\n",
       "      <td>7.163161</td>\n",
       "      <td>20.261393</td>\n",
       "    </tr>\n",
       "  </tbody>\n",
       "</table>\n",
       "</div>"
      ],
      "text/plain": [
       "  life_stage      case        session  plankton   x_(mm)   y_(mm)   z_(mm)  \\\n",
       "0   naupliar  withFood  trj_naupwF5_1         1 -14.0086  19.9080  19.6472   \n",
       "1   naupliar  withFood  trj_naupwF5_1         1 -13.9013  19.9963  19.5251   \n",
       "2   naupliar  withFood  trj_naupwF5_1         1 -13.8047  20.1206  19.4261   \n",
       "3   naupliar  withFood  trj_naupwF5_1         1 -13.8525  20.0261  19.4659   \n",
       "4   naupliar  withFood  trj_naupwF5_1         1 -13.6923  20.1561  19.3457   \n",
       "\n",
       "    ds_(mm)  dv_(mm/s)  angle_(deg)  \n",
       "0  0.000000   0.000000     0.000000  \n",
       "1  0.184983   5.549480    13.649609  \n",
       "2  0.185965   5.578956   164.812455  \n",
       "3  0.113133   3.393997   156.256124  \n",
       "4  0.238772   7.163161    20.261393  "
      ]
     },
     "execution_count": 4,
     "metadata": {},
     "output_type": "execute_result"
    }
   ],
   "source": [
    "# LET'S LOAD THE DATA AND TAKE PEEK AT IT\n",
    "\n",
    "df = pd.read_csv(\"sample.csv\", index_col = 0)\n",
    "df.head()"
   ]
  },
  {
   "cell_type": "code",
   "execution_count": 7,
   "id": "d1f78e43",
   "metadata": {},
   "outputs": [
    {
     "data": {
      "text/plain": [
       "0    0.000000\n",
       "1    5.549480\n",
       "2    5.578956\n",
       "3    3.393997\n",
       "4    7.163161\n",
       "Name: dv_(mm/s), dtype: float64"
      ]
     },
     "execution_count": 7,
     "metadata": {},
     "output_type": "execute_result"
    }
   ],
   "source": [
    "# I WILL COMPARE VELOCITIES. SO, I ONLY NEED THE dv_(mm/s) COLUMN.\n",
    "\n",
    "dv = df['dv_(mm/s)']\n",
    "dv.head()"
   ]
  },
  {
   "cell_type": "code",
   "execution_count": 8,
   "id": "64469d20",
   "metadata": {},
   "outputs": [
    {
     "data": {
      "text/plain": [
       "(array([44., 87., 80., 69., 24., 35., 32., 38., 41., 17.]),\n",
       " array([0.        , 0.97894427, 1.95788854, 2.9368328 , 3.91577707,\n",
       "        4.89472134, 5.87366561, 6.85260988, 7.83155414, 8.81049841,\n",
       "        9.78944268]),\n",
       " <BarContainer object of 10 artists>)"
      ]
     },
     "execution_count": 8,
     "metadata": {},
     "output_type": "execute_result"
    },
    {
     "data": {
      "image/png": "[encoded data removed]",
      "text/plain": [
       "<Figure size 432x288 with 1 Axes>"
      ]
     },
     "metadata": {
      "needs_background": "light"
     },
     "output_type": "display_data"
    }
   ],
   "source": [
    "# STEP 1: I'LL LOOK AT THE DISTRIBUTION OF THE SWIMMING SPEED.\n",
    "\n",
    "plt.hist(dv)"
   ]
  },
  {
   "cell_type": "code",
   "execution_count": 9,
   "id": "db06fe35",
   "metadata": {},
   "outputs": [
    {
     "data": {
      "text/plain": [
       "0.5336552690641135"
      ]
     },
     "execution_count": 9,
     "metadata": {},
     "output_type": "execute_result"
    }
   ],
   "source": [
    "# LOOKS NON-NORMAL TO ME.\n",
    "# STEP 2: LET'S CALCULATE KURTOSIS. MORE KURTOSIS DEVIATES FROM ZERO LESS NORMAL THE DATA.\n",
    "# KURTOSIS CAN BE BOTH POSITIVE OR NEGATIVE. THE SIGN OF KURTOSIS VALUE TELLS US TYPE OF SKEWNESS,\n",
    "# MEANING IF THE TAIL IS TOWARD THE RIGHT OR LEFT OF THE MEAN.\n",
    "\n",
    "stats.skew(dv)"
   ]
  },
  {
   "cell_type": "code",
   "execution_count": 10,
   "id": "fabadc6c",
   "metadata": {},
   "outputs": [
    {
     "name": "stdout",
     "output_type": "stream",
     "text": [
      "Kolmogorov-Smirnov: D = 0.7564288645351219, p = 3.568768766597391e-278\n"
     ]
    }
   ],
   "source": [
    "# KURTOSIS GREATER THAN +1 OR LESS THAN -1 INDICATES HIGH LEVEL OF SKEWNESS IN THE DISTRIBUTION.\n",
    "# HERE, KURTOSIS IS AROUND 0.53. OUR VELOCITY DISTRIBUTION IS SKEWED BUT NOT LIKE CRAZY.\n",
    "# NEXT STEP IS TO CHECK FOR NORMALITY. TO DO THAT, I'LL USE THE KOLMOGOROV-SMIRNOV (K-S) TEST.\n",
    "\n",
    "D, p = stats.kstest(dv, 'norm')\n",
    "print('Kolmogorov-Smirnov: D = {0}, p = {1}'.format(D,p))"
   ]
  },
  {
   "cell_type": "code",
   "execution_count": 13,
   "id": "039c7397",
   "metadata": {},
   "outputs": [
    {
     "name": "stdout",
     "output_type": "stream",
     "text": [
      "Shapiro-Wilk: W = 0.9174187779426575, p = 2.6582655212247994e-15\n"
     ]
    }
   ],
   "source": [
    "# WE HAVE A P-VALIE WAY SMALLER THAN 0.05 HERE. SEEMS LIKE WE HAVE A NON-NORMAL DISTRIBUTION.\n",
    "# LET'S RUN SHAPIRO-WILK TEST FOR A SECOND OPINION.\n",
    "\n",
    "W, p = stats.shapiro(dv)\n",
    "print('Shapiro-Wilk: W = {0}, p = {1}'.format(W,p))"
   ]
  },
  {
   "cell_type": "markdown",
   "id": "9b278d4a",
   "metadata": {},
   "source": [
    "## CONCLUSION \n",
    "\n",
    "We checked our distribution for normality using 4 different approaches. First, we analyzed the data qualitatively by looking at the distribution. Qualitative analysis suggested a non-normal distribution because the peak of the distribution was toward the left of the center. Next, we calculated kurtosis and found a value of 0.53 which is above 0 but below 1. This result suggested a moderate skewness in the distribution. Finally, we performed Kolmogorov-Smirnov (K-S) and Shapiro-Wilk test. Shapiro-Wilk test is has more power than the K-S test meaning Shapiro-Wilk test is less prone to Type I error (false positive). We performed two tests to get a second opinion and found that both test returned p-values less than 0.05. In light of these findings, we conclude that the distribution is non-normal. Therefore, we have to pick a non-parametric test to compare swimming velocities of two different life stages."
   ]
  }
 ],
 "metadata": {
  "kernelspec": {
   "display_name": "Python 3 (ipykernel)",
   "language": "python",
   "name": "python3"
  },
  "language_info": {
   "codemirror_mode": {
    "name": "ipython",
    "version": 3
   },
   "file_extension": ".py",
   "mimetype": "text/x-python",
   "name": "python",
   "nbconvert_exporter": "python",
   "pygments_lexer": "ipython3",
   "version": "3.8.5"
  }
 },
 "nbformat": 4,
 "nbformat_minor": 5
}
